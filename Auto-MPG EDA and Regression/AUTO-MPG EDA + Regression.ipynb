{
 "cells": [
  {
   "cell_type": "markdown",
   "metadata": {
    "_uuid": "74407ade6db763e50b92b292c8247e947d491041"
   },
   "source": [
    "### Auto-MPG (Miles per Gallon) Dataset \n",
    "\n",
    "The data concerns city-cycle fuel consumption in miles per gallon, to be predicted in terms of technical attributes of the car."
   ]
  },
  {
   "cell_type": "markdown",
   "metadata": {},
   "source": [
    "#### Import the Libraries"
   ]
  },
  {
   "cell_type": "code",
   "execution_count": null,
   "metadata": {
    "_cell_guid": "b1076dfc-b9ad-4769-8c92-a6c4dae69d19",
    "_uuid": "8f2839f25d086af736a60e9eeb907d3b93b6e0e5"
   },
   "outputs": [],
   "source": [
    "# It is best practice to keep your imports at one place to avoid confusion\n",
    "# You can import your libraries here \n",
    "\n",
    "# Hint -> !pip install (library name) command for any library that is not installed\n",
    "\n",
    "\n",
    "\n"
   ]
  },
  {
   "cell_type": "markdown",
   "metadata": {
    "_cell_guid": "79c7e3d0-c299-4dcb-8224-4455121ee9b0",
    "_uuid": "d629ff2d2480ee46fbb7e2d37f6b5fab8052498a",
    "collapsed": true
   },
   "source": [
    "#### Loading and description of Dataset"
   ]
  },
  {
   "cell_type": "code",
   "execution_count": null,
   "metadata": {
    "_uuid": "073519292a1422e668d07add83b52d4f44a07447"
   },
   "outputs": [],
   "source": [
    "# Load your dataset here \n",
    "# Imp -> use variable name as data \n",
    "\n",
    "\n",
    "\n",
    "\n",
    "# check the top and bottom 5 rows of the dataset\n",
    "# This will give you insight about the feature types\n",
    "\n",
    "\n"
   ]
  },
  {
   "cell_type": "code",
   "execution_count": null,
   "metadata": {
    "_uuid": "b7ba966ae854991d9493ad918bdd7df890bb7de6"
   },
   "outputs": [],
   "source": [
    "# Also see the quick summary of the dataset\n"
   ]
  },
  {
   "cell_type": "markdown",
   "metadata": {},
   "source": [
    "### Exploratory Data Analysis"
   ]
  },
  {
   "cell_type": "markdown",
   "metadata": {},
   "source": [
    "#### Univariate Analysis"
   ]
  },
  {
   "cell_type": "code",
   "execution_count": null,
   "metadata": {
    "_uuid": "83cdc02a48392b1a955e47d87e2e7138527bf2e3",
    "scrolled": true
   },
   "outputs": [],
   "source": [
    "# Hint -> use countplot from seaborn library to visualize the maximum number of vehicles with 4 cylinders\n",
    "\n"
   ]
  },
  {
   "cell_type": "code",
   "execution_count": null,
   "metadata": {
    "_uuid": "e533cf251e6f28feecd18482ff82a33eb0c68fad"
   },
   "outputs": [],
   "source": [
    "# Hint -> count the number of vehicles by their model year\n",
    "\n"
   ]
  },
  {
   "cell_type": "markdown",
   "metadata": {},
   "source": [
    "#### Multivariate Analysis"
   ]
  },
  {
   "cell_type": "code",
   "execution_count": null,
   "metadata": {
    "_uuid": "4f5fcd93ecca06a2a569a15e875e69b01ef2e18d",
    "scrolled": true
   },
   "outputs": [],
   "source": [
    "# Use boxplot to visualize the relationship between mileage per gallon (mpg) and number of cylinders\n",
    "\n",
    "\n"
   ]
  },
  {
   "cell_type": "code",
   "execution_count": null,
   "metadata": {
    "_uuid": "b7073edb6405238d239d5a2ed8d0d7ece82c29fd"
   },
   "outputs": [],
   "source": [
    "# Use lmplot to visualize the relationship between mileage per gallon (mpg) and horsepower\n",
    "\n",
    "\n"
   ]
  },
  {
   "cell_type": "markdown",
   "metadata": {
    "_uuid": "9b2564e1829aa90769996638899499d56ed1ee89"
   },
   "source": [
    "#### Data modelling"
   ]
  },
  {
   "cell_type": "code",
   "execution_count": null,
   "metadata": {
    "_uuid": "1e542f630b1782bbbf03080b8c3dd56ba534c05a"
   },
   "outputs": [],
   "source": [
    "X = data.iloc[:,1:].values # Features are in X variable\n",
    "Y = data.iloc[:,0].values # Labels are in Y variable"
   ]
  },
  {
   "cell_type": "markdown",
   "metadata": {
    "_uuid": "68ca53e606383e7a46348a66c03fe3908d4c2baa"
   },
   "source": [
    "#### Splitting the dataset into training and test set and Making Predictions"
   ]
  },
  {
   "cell_type": "markdown",
   "metadata": {
    "_uuid": "ba9ad9aee7af545f5e8006a4431725144dc91cf1"
   },
   "source": [
    "1. Multivariate Regression"
   ]
  },
  {
   "cell_type": "code",
   "execution_count": null,
   "metadata": {
    "_uuid": "a616ca451b43e05b55bcbd6109c06b8e322dba04"
   },
   "outputs": [],
   "source": [
    "# The following needs to be carries out\n",
    "# 1. Split training and testing data (default 80%-20%)\n",
    "# 2. Carry out data prediction task\n",
    "\n",
    "\n",
    "\n"
   ]
  },
  {
   "cell_type": "code",
   "execution_count": null,
   "metadata": {
    "_uuid": "928b629af068c10eb7571e67ce7087e87d30eac7"
   },
   "outputs": [],
   "source": [
    "# Use a metric to compute the score\n",
    "\n"
   ]
  },
  {
   "cell_type": "markdown",
   "metadata": {
    "_uuid": "709a4755371d2f73b6e3deb8ff6cc7e9631eedb8"
   },
   "source": [
    "2. Polynomial regression"
   ]
  },
  {
   "cell_type": "code",
   "execution_count": null,
   "metadata": {
    "_uuid": "c9f1fa32fdce7c825acc838e7042804177820e8d"
   },
   "outputs": [],
   "source": [
    "# Carry out the same task as above by using polynomial features\n",
    "# Hint -> Use polynomial regression\n",
    "\n",
    "\n",
    "\n"
   ]
  },
  {
   "cell_type": "markdown",
   "metadata": {},
   "source": [
    "### Conclusion"
   ]
  },
  {
   "cell_type": "code",
   "execution_count": 1,
   "metadata": {},
   "outputs": [],
   "source": [
    "# Write your understanding\n",
    "\n",
    "\n",
    "\n"
   ]
  }
 ],
 "metadata": {
  "kernelspec": {
   "display_name": "Python 3",
   "language": "python",
   "name": "python3"
  },
  "language_info": {
   "codemirror_mode": {
    "name": "ipython",
    "version": 3
   },
   "file_extension": ".py",
   "mimetype": "text/x-python",
   "name": "python",
   "nbconvert_exporter": "python",
   "pygments_lexer": "ipython3",
   "version": "3.7.6"
  }
 },
 "nbformat": 4,
 "nbformat_minor": 1
}
