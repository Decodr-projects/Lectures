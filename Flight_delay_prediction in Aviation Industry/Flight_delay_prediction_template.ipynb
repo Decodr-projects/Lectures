{
  "nbformat": 4,
  "nbformat_minor": 0,
  "metadata": {
    "kernelspec": {
      "language": "python",
      "display_name": "Python 3",
      "name": "python3"
    },
    "language_info": {
      "pygments_lexer": "ipython3",
      "nbconvert_exporter": "python",
      "version": "3.6.4",
      "file_extension": ".py",
      "codemirror_mode": {
        "name": "ipython",
        "version": 3
      },
      "name": "python",
      "mimetype": "text/x-python"
    },
    "colab": {
      "name": "Flight_delay_prediction_template.ipynb",
      "provenance": []
    }
  },
  "cells": [
    {
      "cell_type": "markdown",
      "metadata": {
        "id": "frbcFJhiroMQ",
        "colab_type": "text"
      },
      "source": [
        "# Flight Delay Prediction"
      ]
    },
    {
      "cell_type": "code",
      "metadata": {
        "trusted": true,
        "id": "JlnukSssroMh",
        "colab_type": "code",
        "colab": {}
      },
      "source": [
        "# Load all the neccesary libraries\n",
        "import pandas as pd\n",
        "import tensorflow as tf\n",
        "import seaborn as sns\n",
        "seed = 1010\n",
        "tf.random.set_seed(seed)"
      ],
      "execution_count": 0,
      "outputs": []
    },
    {
      "cell_type": "markdown",
      "metadata": {
        "id": "CNwJXMIjroQ_",
        "colab_type": "text"
      },
      "source": [
        "## Load the dataset "
      ]
    },
    {
      "cell_type": "code",
      "metadata": {
        "_uuid": "d629ff2d2480ee46fbb7e2d37f6b5fab8052498a",
        "_cell_guid": "79c7e3d0-c299-4dcb-8224-4455121ee9b0",
        "trusted": true,
        "id": "O1b_iJ2aroRY",
        "colab_type": "code",
        "colab": {}
      },
      "source": [
        "# lets load both files into dataframe\n",
        "df1 = pd.read_csv('../flight-delay-prediction/Jan_2019_ontime.csv')\n",
        "df2 = pd.read_csv('../flight-delay-prediction/Jan_2020_ontime.csv')\n"
      ],
      "execution_count": 0,
      "outputs": []
    },
    {
      "cell_type": "code",
      "metadata": {
        "id": "0SF3rr8Wr7RN",
        "colab_type": "code",
        "colab": {}
      },
      "source": [
        "# lets see the shape of the dataframe\n"
      ],
      "execution_count": 0,
      "outputs": []
    },
    {
      "cell_type": "code",
      "metadata": {
        "trusted": true,
        "id": "RchCMBoBroSH",
        "colab_type": "code",
        "colab": {}
      },
      "source": [
        "# Merge the datasets\n",
        "df = pd.concat([df1, df2], ignore_index=True)\n",
        "df.info()"
      ],
      "execution_count": 0,
      "outputs": []
    },
    {
      "cell_type": "code",
      "metadata": {
        "trusted": true,
        "id": "v0vxW4j-roSw",
        "colab_type": "code",
        "colab": {}
      },
      "source": [
        "#lets view some rows of dataset\n"
      ],
      "execution_count": 0,
      "outputs": []
    },
    {
      "cell_type": "markdown",
      "metadata": {
        "id": "UJDFX2nlroTr",
        "colab_type": "text"
      },
      "source": [
        "## Prepare the dataset for training"
      ]
    },
    {
      "cell_type": "code",
      "metadata": {
        "trusted": true,
        "id": "oVM1Cv2TroTz",
        "colab_type": "code",
        "colab": {}
      },
      "source": [
        "# check the correlation between attributes\n"
      ],
      "execution_count": 0,
      "outputs": []
    },
    {
      "cell_type": "code",
      "metadata": {
        "trusted": true,
        "id": "6r64Hrj6roUT",
        "colab_type": "code",
        "colab": {}
      },
      "source": [
        "# plot heatmap for correlation\n"
      ],
      "execution_count": 0,
      "outputs": []
    },
    {
      "cell_type": "code",
      "metadata": {
        "trusted": true,
        "id": "pc9PDaL5roU2",
        "colab_type": "code",
        "colab": {}
      },
      "source": [
        "# Remove the columns not used in training\n"
      ],
      "execution_count": 0,
      "outputs": []
    },
    {
      "cell_type": "code",
      "metadata": {
        "trusted": true,
        "id": "_UN5FLKNroVY",
        "colab_type": "code",
        "colab": {}
      },
      "source": [
        "# check for NaN values in the dataset\n"
      ],
      "execution_count": 0,
      "outputs": []
    },
    {
      "cell_type": "code",
      "metadata": {
        "trusted": true,
        "id": "IDN7PyRLroWK",
        "colab_type": "code",
        "colab": {}
      },
      "source": [
        "# drop the NaN values in the dataset\n"
      ],
      "execution_count": 0,
      "outputs": []
    },
    {
      "cell_type": "markdown",
      "metadata": {
        "id": "LOAv77lnroWh",
        "colab_type": "text"
      },
      "source": [
        "## Split dataset for training and evaluation "
      ]
    },
    {
      "cell_type": "code",
      "metadata": {
        "trusted": true,
        "id": "pAUHijYYroWo",
        "colab_type": "code",
        "colab": {}
      },
      "source": [
        "# split the dataset"
      ],
      "execution_count": 0,
      "outputs": []
    },
    {
      "cell_type": "code",
      "metadata": {
        "trusted": true,
        "id": "RaKyQIOyroXB",
        "colab_type": "code",
        "colab": {}
      },
      "source": [
        "# Extract and remove the label (to be predicted) set\n"
      ],
      "execution_count": 0,
      "outputs": []
    },
    {
      "cell_type": "markdown",
      "metadata": {
        "id": "obR0L2MAroXf",
        "colab_type": "text"
      },
      "source": [
        "## Using Estimator"
      ]
    },
    {
      "cell_type": "code",
      "metadata": {
        "trusted": true,
        "id": "bgnHUNHmroXk",
        "colab_type": "code",
        "colab": {},
        "outputId": "54281e93-e874-4d1b-a1ca-8832b1b306c3"
      },
      "source": [
        "# check the datatypes of the features\n"
      ],
      "execution_count": 0,
      "outputs": [
        {
          "output_type": "execute_result",
          "data": {
            "text/plain": [
              "DAY_OF_MONTH          int64\n",
              "DAY_OF_WEEK           int64\n",
              "TAIL_NUM             object\n",
              "OP_CARRIER_FL_NUM     int64\n",
              "ORIGIN_AIRPORT_ID     int64\n",
              "DEST_AIRPORT_ID       int64\n",
              "DEP_TIME_BLK         object\n",
              "dtype: object"
            ]
          },
          "metadata": {
            "tags": []
          },
          "execution_count": 26
        }
      ]
    },
    {
      "cell_type": "markdown",
      "metadata": {
        "id": "C3OnxXBuroX_",
        "colab_type": "text"
      },
      "source": [
        "#### Create Feature Columns"
      ]
    },
    {
      "cell_type": "code",
      "metadata": {
        "trusted": true,
        "id": "iqpdyhgSroYD",
        "colab_type": "code",
        "colab": {}
      },
      "source": [
        "# check the catogorical values\n"
      ],
      "execution_count": 0,
      "outputs": []
    },
    {
      "cell_type": "code",
      "metadata": {
        "trusted": true,
        "id": "M4wcwdtwroYd",
        "colab_type": "code",
        "colab": {}
      },
      "source": [
        "# use one hot encoding to convert them\n",
        "# use can use other methods too."
      ],
      "execution_count": 0,
      "outputs": []
    },
    {
      "cell_type": "code",
      "metadata": {
        "trusted": true,
        "id": "pH2fS0baroYw",
        "colab_type": "code",
        "colab": {}
      },
      "source": [
        "# tf.estimator requires the features to be Tensors\n"
      ],
      "execution_count": 0,
      "outputs": []
    },
    {
      "cell_type": "markdown",
      "metadata": {
        "id": "wXP_vepYroZC",
        "colab_type": "text"
      },
      "source": [
        "#### Create Input Function for both Training and Evaluation"
      ]
    },
    {
      "cell_type": "code",
      "metadata": {
        "trusted": true,
        "id": "GhIrtNDvroZF",
        "colab_type": "code",
        "colab": {}
      },
      "source": [
        "# code here"
      ],
      "execution_count": 0,
      "outputs": []
    },
    {
      "cell_type": "markdown",
      "metadata": {
        "id": "YIeVPdC6roZZ",
        "colab_type": "text"
      },
      "source": [
        "#### Set up Hyper Parameters"
      ]
    },
    {
      "cell_type": "code",
      "metadata": {
        "trusted": true,
        "id": "VWiv0WcyroZc",
        "colab_type": "code",
        "colab": {}
      },
      "source": [
        "# code here"
      ],
      "execution_count": 0,
      "outputs": []
    },
    {
      "cell_type": "markdown",
      "metadata": {
        "id": "q6qq6SxRroZt",
        "colab_type": "text"
      },
      "source": [
        "#### Train"
      ]
    },
    {
      "cell_type": "code",
      "metadata": {
        "trusted": true,
        "id": "5buAZCbcroZy",
        "colab_type": "code",
        "colab": {},
        "outputId": "992329e3-1767-4757-81fd-bee953e8e9b6"
      },
      "source": [
        "# train the model"
      ],
      "execution_count": 0,
      "outputs": [
        {
          "output_type": "execute_result",
          "data": {
            "text/plain": [
              "<tensorflow_estimator.python.estimator.canned.boosted_trees.BoostedTreesClassifier at 0x7f091ece3e80>"
            ]
          },
          "metadata": {
            "tags": []
          },
          "execution_count": 32
        }
      ]
    },
    {
      "cell_type": "markdown",
      "metadata": {
        "id": "MjJzX3EaroaK",
        "colab_type": "text"
      },
      "source": [
        "#### Evaluation"
      ]
    },
    {
      "cell_type": "code",
      "metadata": {
        "trusted": true,
        "id": "5B54IMNaroaR",
        "colab_type": "code",
        "colab": {},
        "outputId": "d02d193d-4fe0-44d2-b6c6-a02a1e6f6daf"
      },
      "source": [
        "# check the accuracy of the model"
      ],
      "execution_count": 0,
      "outputs": [
        {
          "output_type": "stream",
          "text": [
            ""
          ],
          "name": "stdout"
        }
      ]
    }
  ]
}
