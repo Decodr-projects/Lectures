{
 "cells": [
  {
   "cell_type": "markdown",
   "metadata": {},
   "source": [
    "# Problem Statement"
   ]
  },
  {
   "cell_type": "markdown",
   "metadata": {},
   "source": [
    "Analysing the summer and winter olympics datasets to get informative insights through visualisations."
   ]
  },
  {
   "cell_type": "markdown",
   "metadata": {},
   "source": [
    "# Introduction"
   ]
  },
  {
   "cell_type": "markdown",
   "metadata": {},
   "source": [
    "More than 35,000 medals have been awarded at the Olympics since 1896. The first two Olympiads awarded silver medals and an olive wreath for the winner, and the IOC retrospectively awarded gold, silver, and bronze to athletes based on their rankings. This dataset includes a row for every Olympic athlete that has won a medal since the first games."
   ]
  },
  {
   "cell_type": "markdown",
   "metadata": {},
   "source": [
    "# Importing the necessary Libraries."
   ]
  },
  {
   "cell_type": "code",
   "execution_count": 3,
   "metadata": {},
   "outputs": [],
   "source": [
    "#import pandas as pd\n",
    "#import numpy as np\n",
    "#import seaborn as sns\n",
    "#import matplotlib.pyplot as plt\n",
    "#import plotly.express as px\n",
    "#import plotly"
   ]
  },
  {
   "cell_type": "markdown",
   "metadata": {},
   "source": [
    "# Reading the datasets into Pandas Dataframe."
   ]
  },
  {
   "cell_type": "code",
   "execution_count": 4,
   "metadata": {},
   "outputs": [],
   "source": [
    "#Winter dataset\n",
    "#Write your code here\n",
    "#Write your code here"
   ]
  },
  {
   "cell_type": "code",
   "execution_count": 5,
   "metadata": {},
   "outputs": [],
   "source": [
    "#Summer dataset\n",
    "#Write your code here\n",
    "#write your code here"
   ]
  },
  {
   "cell_type": "code",
   "execution_count": 6,
   "metadata": {},
   "outputs": [],
   "source": [
    "#Dictionary dataset\n",
    "#Write your code here\n",
    "#Write your code here"
   ]
  },
  {
   "cell_type": "markdown",
   "metadata": {},
   "source": [
    "# Analyse the Summer Dataset:"
   ]
  },
  {
   "cell_type": "markdown",
   "metadata": {},
   "source": [
    "### Change the 'Country' column name and merging the dictionary dataset fo the codes."
   ]
  },
  {
   "cell_type": "code",
   "execution_count": 7,
   "metadata": {},
   "outputs": [],
   "source": [
    "#Write your code here\n",
    "#Write your code here\n",
    "#Write your code here"
   ]
  },
  {
   "cell_type": "markdown",
   "metadata": {},
   "source": [
    "### Use the describe method to know more about the dataset"
   ]
  },
  {
   "cell_type": "code",
   "execution_count": 9,
   "metadata": {},
   "outputs": [],
   "source": [
    "#Write your code here"
   ]
  },
  {
   "cell_type": "markdown",
   "metadata": {},
   "source": [
    "### To know more about the dtypes use the 'include' parameter inside the describe method"
   ]
  },
  {
   "cell_type": "code",
   "execution_count": 10,
   "metadata": {},
   "outputs": [],
   "source": [
    "#Write your code here"
   ]
  },
  {
   "cell_type": "markdown",
   "metadata": {},
   "source": [
    "# Plot a Chloropeth Map to visualize which country won the most number of medals."
   ]
  },
  {
   "cell_type": "code",
   "execution_count": 12,
   "metadata": {},
   "outputs": [],
   "source": [
    "#medals_map=summer.groupby(['Country','Code'])['Medal'].count().reset_index()\n",
    "#medals_map=medals_map[medals_map['Medal']>0]\n",
    "\n",
    "#fig = px.choropleth(medals_map, locations=\"Code\",\n",
    "                    #color=\"Medal\", # lifeExp is a column of gapminder\n",
    "                    #hover_name=\"Country\", # column to add to hover information\n",
    "                    #color_continuous_scale=px.colors.sequential.Plasma)\n",
    "#fig.show()"
   ]
  },
  {
   "cell_type": "markdown",
   "metadata": {},
   "source": [
    "# Which country won the most number of medals in the Olympics from 1896 to 2012?"
   ]
  },
  {
   "cell_type": "code",
   "execution_count": 14,
   "metadata": {},
   "outputs": [],
   "source": [
    "#Write your answer here"
   ]
  },
  {
   "cell_type": "markdown",
   "metadata": {},
   "source": [
    "# Who is the most successful male athlete? "
   ]
  },
  {
   "cell_type": "code",
   "execution_count": 15,
   "metadata": {},
   "outputs": [],
   "source": [
    "#Write your code here"
   ]
  },
  {
   "cell_type": "markdown",
   "metadata": {},
   "source": [
    "# Who is the most successful female athlete?"
   ]
  },
  {
   "cell_type": "code",
   "execution_count": 16,
   "metadata": {},
   "outputs": [],
   "source": [
    "#Write your code here"
   ]
  },
  {
   "cell_type": "markdown",
   "metadata": {},
   "source": [
    "# Who won the most number of medals?"
   ]
  },
  {
   "cell_type": "code",
   "execution_count": 17,
   "metadata": {},
   "outputs": [],
   "source": [
    "#Write your code here\n",
    "#Write your code here\n",
    "#Write your code here\n",
    "#Write your code here"
   ]
  },
  {
   "cell_type": "markdown",
   "metadata": {},
   "source": [
    "# Visualize the medal distribution of top 10 countries:"
   ]
  },
  {
   "cell_type": "code",
   "execution_count": 18,
   "metadata": {},
   "outputs": [],
   "source": [
    "#medals_country=summer.groupby(['Country','Medal'])['Gender'].count().reset_index().sort_values(by='Gender',ascending=False)\n",
    "#medals_country=medals_country.pivot('Country','Medal','Gender').fillna(0)\n",
    "#top=medals_country.sort_values(by='Gold',ascending=False)[:11]\n",
    "#top.plot.barh(width=0.8,color=['#CD7F32','#FFDF00','#D3D3D3'])\n",
    "#fig=plt.gcf()\n",
    "#fig.set_size_inches(12,12)\n",
    "#plt.title('Medals Distribution Of Top 10 Countries (Summer Olympics)')\n",
    "#plt.show()"
   ]
  },
  {
   "cell_type": "markdown",
   "metadata": {},
   "source": [
    "# Which country won the most number of gold,silver and bronze medals respectively?"
   ]
  },
  {
   "cell_type": "code",
   "execution_count": 19,
   "metadata": {},
   "outputs": [],
   "source": [
    "#Write your answer here"
   ]
  },
  {
   "cell_type": "markdown",
   "metadata": {},
   "source": [
    "# Which are the best male and female athletes?"
   ]
  },
  {
   "cell_type": "code",
   "execution_count": 20,
   "metadata": {},
   "outputs": [],
   "source": [
    "#fig,ax=plt.subplots(1,2,figsize=(25.5,15))\n",
    "#men=summer[summer['Gender']=='Men']\n",
    "#men=men.groupby(['Athlete','Medal'])['Code'].count().reset_index().sort_values(by='Code',ascending=False)\n",
    "#men=men[men['Athlete'].isin(summer['Athlete'].value_counts().index[:15])]\n",
    "#men=men.pivot('Athlete','Medal','Code')\n",
    "#men.plot.barh(width=0.8,color=['#CD7F32','#FFDF00','#D3D3D3'],ax=ax[0])\n",
    "#ax[0].set_title('Best Male Athletes')\n",
    "#ax[0].set_ylabel('Athlete')\n",
    "\n",
    "#women=summer[summer['Gender']=='Women']\n",
    "#women=women.groupby(['Athlete','Medal'])['Code'].count().reset_index().sort_values(by='Code',ascending=False)\n",
    "#women=women[women['Athlete'].isin(summer['Athlete'].value_counts().index[:30])]\n",
    "#women=women.pivot('Athlete','Medal','Code')\n",
    "#women.plot.barh(width=0.8,color=['#CD7F32','#FFDF00','#D3D3D3'],ax=ax[1])\n",
    "#ax[1].set_title('Best Female Athletes')\n",
    "#ax[1].set_ylabel('')\n",
    "#plt.show()"
   ]
  },
  {
   "cell_type": "markdown",
   "metadata": {},
   "source": [
    "# Analyse the Winter Dataset:"
   ]
  },
  {
   "cell_type": "markdown",
   "metadata": {},
   "source": [
    "### Changing the 'Country' column name and merging the dictionary dataset fo the codes."
   ]
  },
  {
   "cell_type": "code",
   "execution_count": 21,
   "metadata": {},
   "outputs": [],
   "source": [
    "#Write your code here\n",
    "#Write your code here\n",
    "#Write your code here"
   ]
  },
  {
   "cell_type": "markdown",
   "metadata": {},
   "source": [
    "### Use the describe method to know more about the dataset"
   ]
  },
  {
   "cell_type": "code",
   "execution_count": 22,
   "metadata": {},
   "outputs": [],
   "source": [
    "#Write your code here"
   ]
  },
  {
   "cell_type": "markdown",
   "metadata": {},
   "source": [
    "### To know more about the dtypes use the 'include' inside the describe method"
   ]
  },
  {
   "cell_type": "code",
   "execution_count": 23,
   "metadata": {},
   "outputs": [],
   "source": [
    "#Write your code here"
   ]
  },
  {
   "cell_type": "markdown",
   "metadata": {},
   "source": [
    "# Plot a Chloropeth Map to visualize which country won the most number of medals."
   ]
  },
  {
   "cell_type": "code",
   "execution_count": 24,
   "metadata": {},
   "outputs": [],
   "source": [
    "#medals_map=winter.groupby(['Country','Code'])['Medal'].count().reset_index()\n",
    "#medals_map=medals_map[medals_map['Medal']>0]\n",
    "\n",
    "#fig = px.choropleth(medals_map, locations=\"Code\",\n",
    "                    #color=\"Medal\", # lifeExp is a column of gapminder\n",
    "                    #hover_name=\"Country\", # column to add to hover information\n",
    "                    #color_continuous_scale=px.colors.sequential.Plasma)\n",
    "#fig.show()"
   ]
  },
  {
   "cell_type": "markdown",
   "metadata": {},
   "source": [
    "# Which country won the most number of medals?"
   ]
  },
  {
   "cell_type": "code",
   "execution_count": null,
   "metadata": {},
   "outputs": [],
   "source": [
    "#Write your answer here"
   ]
  },
  {
   "cell_type": "markdown",
   "metadata": {},
   "source": [
    "# Who is the most successful male athlete?"
   ]
  },
  {
   "cell_type": "code",
   "execution_count": 25,
   "metadata": {},
   "outputs": [],
   "source": [
    "#Write your code here"
   ]
  },
  {
   "cell_type": "markdown",
   "metadata": {},
   "source": [
    "# Who is the most successful female athlete?"
   ]
  },
  {
   "cell_type": "code",
   "execution_count": 26,
   "metadata": {},
   "outputs": [],
   "source": [
    "#Write your code here"
   ]
  },
  {
   "cell_type": "markdown",
   "metadata": {},
   "source": [
    "# Who won the most number of medals?"
   ]
  },
  {
   "cell_type": "code",
   "execution_count": 27,
   "metadata": {},
   "outputs": [],
   "source": [
    "#Write your code here\n",
    "#Write your code here\n",
    "#Write your code here\n",
    "#Write your code here"
   ]
  },
  {
   "cell_type": "markdown",
   "metadata": {},
   "source": [
    "# Visualize the medal distribution of top 10 countries:"
   ]
  },
  {
   "cell_type": "code",
   "execution_count": 28,
   "metadata": {},
   "outputs": [],
   "source": [
    "#medals_country=winter.groupby(['Country','Medal'])['Gender'].count().reset_index().sort_values(by='Gender',ascending=False)\n",
    "#medals_country=medals_country.pivot('Country','Medal','Gender').fillna(0)\n",
    "#top=medals_country.sort_values(by='Gold',ascending=False)[:11]\n",
    "#top.plot.barh(width=0.8,color=['#CD7F32','#FFDF00','#D3D3D3'])\n",
    "#fig=plt.gcf()\n",
    "#fig.set_size_inches(12,12)\n",
    "#plt.title('Medals Distribution Of Top 10 Countries (Winter Olympics)')\n",
    "#plt.show()"
   ]
  },
  {
   "cell_type": "markdown",
   "metadata": {},
   "source": [
    "# Which country won the most number of gold,silver and bronze medals respectively?"
   ]
  },
  {
   "cell_type": "code",
   "execution_count": 29,
   "metadata": {},
   "outputs": [],
   "source": [
    "#Write your answer here"
   ]
  },
  {
   "cell_type": "markdown",
   "metadata": {},
   "source": [
    "# Which are the best male and female athletes?"
   ]
  },
  {
   "cell_type": "code",
   "execution_count": 30,
   "metadata": {},
   "outputs": [],
   "source": [
    "#fig,ax=plt.subplots(1,2,figsize=(25.5,15))\n",
    "#men=winter[winter['Gender']=='Men']\n",
    "#men=men.groupby(['Athlete','Medal'])['Code'].count().reset_index().sort_values(by='Code',ascending=False)\n",
    "#men=men[men['Athlete'].isin(winter['Athlete'].value_counts().index[:15])]\n",
    "#men=men.pivot('Athlete','Medal','Code')\n",
    "#men.plot.barh(width=0.8,color=['#CD7F32','#FFDF00','#D3D3D3'],ax=ax[0])\n",
    "#ax[0].set_title('Best Male Athletes')\n",
    "#ax[0].set_ylabel('Athlete')\n",
    "\n",
    "#women=winter[winter['Gender']=='Women']\n",
    "#women=women.groupby(['Athlete','Medal'])['Code'].count().reset_index().sort_values(by='Code',ascending=False)\n",
    "#women=women[women['Athlete'].isin(winter['Athlete'].value_counts().index[:30])]\n",
    "#women=women.pivot('Athlete','Medal','Code')\n",
    "#women.plot.barh(width=0.8,color=['#CD7F32','#FFDF00','#D3D3D3'],ax=ax[1])\n",
    "#ax[1].set_title('Best Female Athletes')\n",
    "#ax[1].set_ylabel('')\n",
    "#plt.show()"
   ]
  }
 ],
 "metadata": {
  "kernelspec": {
   "display_name": "Python 3",
   "language": "python",
   "name": "python3"
  },
  "language_info": {
   "codemirror_mode": {
    "name": "ipython",
    "version": 3
   },
   "file_extension": ".py",
   "mimetype": "text/x-python",
   "name": "python",
   "nbconvert_exporter": "python",
   "pygments_lexer": "ipython3",
   "version": "3.7.3"
  }
 },
 "nbformat": 4,
 "nbformat_minor": 2
}
