{
 "cells": [
  {
   "cell_type": "markdown",
   "metadata": {
    "_cell_guid": "e4908a03-fb76-4c2f-b2b5-d031bd9ef029",
    "_uuid": "3d9d87bab7decddf1f434bd997c4545008ba9b75"
   },
   "source": [
    "# Exploring airplane crashes\n",
    "\n",
    "The odds of dying on a commercial airline flight are actually as low as 9 million to 1. That said, a lot can go wrong at 33,000 feet (10,058.4 m) above the ground, and if you’re unlucky enough to be aboard when something does, the decisions you make could mean the difference between life and death. Almost 95% of airplane crashes have survivors, so even if the worst does happen, your odds aren't as bad as you might think.\n",
    "\n",
    "# Problem Statement:\n",
    "This problem is meant to solve the following questions: \n",
    "\n",
    "###### 1). Yearly how many planes crashed? how many people were on board? how many survived? how many died? \n",
    "###### 2). Highest number of crashes by operator and Type of aircrafts.<br>\n",
    "###### 3). ‘Summary’ field has the details about the crashes. Find the reasons of the crash and categorize them in different clusters       i.e Fire, shot down, weather (for the ‘Blanks’ in the data category can be UNKNOWN) you are open to make clusters of your       choice but they should not exceed 7.<br>\n",
    "###### 4). Find the number of crashed aircrafts and number of deaths against each category from above step.<br>\n",
    "###### 5). Find any interesting trends/behaviors that you encounter when you analyze the dataset.<br>"
   ]
  },
  {
   "cell_type": "markdown",
   "metadata": {
    "_cell_guid": "ca3f69fe-796d-4c12-8f93-877cfe127ca0",
    "_uuid": "ad0ed7b8c73be212080d5b4334a8a92fcdf9598c"
   },
   "source": [
    "## Setting up the environment"
   ]
  },
  {
   "cell_type": "code",
   "execution_count": null,
   "metadata": {
    "_cell_guid": "b1076dfc-b9ad-4769-8c92-a6c4dae69d19",
    "_uuid": "8f2839f25d086af736a60e9eeb907d3b93b6e0e5"
   },
   "outputs": [],
   "source": [
    "#importing the libraries and data\n",
    "import numpy as np \n",
    "import pandas as pd \n",
    "import seaborn as sns\n",
    "import matplotlib.pyplot as plt\n",
    "from datetime import date, timedelta, datetime\n",
    "import os\n",
    "import matplotlib.pylab as pl\n",
    "import matplotlib.gridspec as gridspec\n",
    "Data = pd.read_csv('Dataset1.csv')\n",
    "plt.style.use(os.path.join(os.getcwd(), 'mystyle.mplstyle'))"
   ]
  },
  {
   "cell_type": "markdown",
   "metadata": {},
   "source": [
    "These are the basic packages that you will need, feel free to import any other package that you may need."
   ]
  },
  {
   "cell_type": "markdown",
   "metadata": {
    "_cell_guid": "e58cb438-b54d-42be-921c-56cf856ff06f",
    "_uuid": "2ab1b09df0fefa4192b708d50fccf0dd4ab4bd40"
   },
   "source": [
    "## Data Preprocessing\n"
   ]
  },
  {
   "cell_type": "code",
   "execution_count": null,
   "metadata": {
    "_cell_guid": "e97f90b2-3fc6-4615-8714-b5e084c23a6b",
    "_kg_hide-input": true,
    "_uuid": "f67cf7e2312dbc9faf460fc66aed03b2e0601d14"
   },
   "outputs": [],
   "source": [
    "# Explore the shape of the dataset and see if there is a need for any pre-processing"
   ]
  },
  {
   "cell_type": "code",
   "execution_count": null,
   "metadata": {
    "_cell_guid": "009554bb-64b2-4034-a527-d2baa51ccc36",
    "_kg_hide-input": true,
    "_uuid": "72921a9c795a4d2e410aeb72ea9a7872edbfa705"
   },
   "outputs": [],
   "source": [
    "# Print the feaures of the dataset"
   ]
  },
  {
   "cell_type": "code",
   "execution_count": null,
   "metadata": {
    "_cell_guid": "f8abc417-db80-4946-acae-f121c4d3a98e",
    "_uuid": "927d3c33e48667e5e48ce2e3c01861aa220824d6"
   },
   "outputs": [],
   "source": [
    "#Find any missing/null values in rows"
   ]
  },
  {
   "cell_type": "markdown",
   "metadata": {
    "_cell_guid": "4966d628-4bc4-4171-a1d7-1727d1a6ef66",
    "_uuid": "d5d59cbedc8d890912df266a19158b67315f2ef4"
   },
   "source": [
    "Look for ways to patch missing values and fix any wrong symbols.\n",
    "Hint: Create a new row with 'Date + Time' format.Replace all the missing values of Time with 0:00."
   ]
  },
  {
   "cell_type": "code",
   "execution_count": null,
   "metadata": {
    "_cell_guid": "f7018893-d22e-4fcd-9242-a172312a277b",
    "_uuid": "2f9593b891122ef229a398f6b91d3c70b7834838",
    "scrolled": false
   },
   "outputs": [],
   "source": [
    "#clean up any remaining data and make the dataset ready to use\n",
    "#Avoid duplicates like 'British Airlines' and 'BRITISH Airlines'"
   ]
  },
  {
   "cell_type": "markdown",
   "metadata": {
    "_cell_guid": "5fb002e1-a93f-4600-a37e-42ff94d8054e",
    "_uuid": "b2e3a284aba357de7501902606e44ebfb667ee18"
   },
   "source": [
    "## Exploratory Data Analysis\n",
    "\n",
    "### Total accidents"
   ]
  },
  {
   "cell_type": "code",
   "execution_count": null,
   "metadata": {
    "_cell_guid": "9790ac8c-0060-4629-93d9-29943fd8d8ca",
    "_kg_hide-input": true,
    "_uuid": "2ed6fd48acf35e9a08a93407d6a6ea9ad701d9ca"
   },
   "outputs": [],
   "source": [
    "#Plot a graph to visualize total accidents over the range of years provided in the dataset"
   ]
  },
  {
   "cell_type": "code",
   "execution_count": null,
   "metadata": {
    "_cell_guid": "1d80c68e-a2ef-47ac-b080-16b5644cc792",
    "_kg_hide-input": true,
    "_uuid": "a8fa76c08281e29beaf4aafb34c9f5fa1df62e9f"
   },
   "outputs": [],
   "source": [
    "#Use seaborn and plot a graph of count of accidents for every month of the year.\n",
    "#Plot a graph of count of accidents for every day of the week.\n",
    "#Plot a graph of count of accidents for every hour of the day.\n",
    "#Look for any trends, patterns or irregularities after doing this."
   ]
  },
  {
   "cell_type": "markdown",
   "metadata": {
    "_cell_guid": "0c5c0c31-4a20-4784-af8a-2d52bb5c682d",
    "_uuid": "28ad828a51c526332684e61042dad2e2894218b3"
   },
   "source": [
    "### Military vs Passenger flights"
   ]
  },
  {
   "cell_type": "code",
   "execution_count": null,
   "metadata": {
    "_cell_guid": "b1a10e6f-5408-475a-a9c0-16c8c2b151a1",
    "_kg_hide-input": true,
    "_uuid": "43f6307275f8a65a0626b138f0899cfa99c09bfb"
   },
   "outputs": [],
   "source": [
    "# The reasons for military and commercial accidents have a huge difference, we must also that this into account.\n",
    "# Make a pie chart having total number of accidents of military and commercial aircrafts.\n",
    "# Plot a graph to count total accidents over the years for military and commercial aircrapfts."
   ]
  },
  {
   "cell_type": "markdown",
   "metadata": {
    "_cell_guid": "0d3ecd51-08dd-4ba2-95db-e21ea41604d5",
    "_uuid": "af4a11c97fb309cec98b95eac7d009195b214c0d"
   },
   "source": [
    "### Total number of Fatalities"
   ]
  },
  {
   "cell_type": "code",
   "execution_count": null,
   "metadata": {
    "_cell_guid": "c0620e54-aa43-455a-a34c-1961204f4eb9",
    "_kg_hide-input": true,
    "_uuid": "b2298a7237c6b0f8eb1b636bc6996789f5903b14"
   },
   "outputs": [],
   "source": [
    "# Now analyse the ratio of fatalities by the total number of people abroad the aircraft.\n",
    "# Plot a graph having the count of total fatalities and people aboard flights over the years.\n",
    "# Plot a graph representing the ratio of fatalities/people aboard over the years."
   ]
  },
  {
   "cell_type": "markdown",
   "metadata": {
    "_cell_guid": "9bff044b-8b09-42f7-8261-eb89b57a98c7",
    "_uuid": "1c9265a52ab0d6c9dfc1a5851e3f9a0befb4be85"
   },
   "source": [
    "### Problems with misleading data\n",
    "The plots that you get may look scary but these graphs don't show the proportion of accidents by all flights by year. There might be also the rise of total amount of people flying by air while actually proportion became low."
   ]
  },
  {
   "cell_type": "code",
   "execution_count": null,
   "metadata": {
    "_cell_guid": "09d31b1d-cd24-4dc5-9324-549673862fa5",
    "_uuid": "b373333248b2b568c656b306dcd05ae5709a849d"
   },
   "outputs": [],
   "source": [
    "# Dataset 2 will give deep insights and may fix the above problem.\n",
    "# Import and clean Dataset2\n",
    "Totals = pd.read_csv('Dataset2.csv')"
   ]
  },
  {
   "cell_type": "markdown",
   "metadata": {
    "_cell_guid": "2816f78a-fbf8-479a-b738-c75670d824e9",
    "_uuid": "bb3c2e2935248cf0f4d8aa6afb442b28d77fa06c"
   },
   "source": [
    "### Data Cleaning"
   ]
  },
  {
   "cell_type": "code",
   "execution_count": null,
   "metadata": {
    "_cell_guid": "0acbcab2-248d-41cc-ac09-f6650c0b26b9",
    "_uuid": "de4f4913b61214fff6cb2b6da34f72c987354109"
   },
   "outputs": [],
   "source": [
    "# Clean Dataset 2"
   ]
  },
  {
   "cell_type": "code",
   "execution_count": null,
   "metadata": {
    "_cell_guid": "02305a88-7097-48fe-9c61-0da3ebc92125",
    "_kg_hide-input": true,
    "_uuid": "ba52bb7a5ea9d53b339a0d35066ba30ed9e51a4d"
   },
   "outputs": [],
   "source": [
    "# Create the following plots:\n",
    "# a). Total number of passengers travelling by air per year.\n",
    "# b). Total number of fatalities per year.\n",
    "# c). Ratio of total fatalities/total passengers per year."
   ]
  },
  {
   "cell_type": "markdown",
   "metadata": {
    "_cell_guid": "d311aef7-a463-4871-826a-3c8faf8bdaf2",
    "_uuid": "89f8c138a614efb019f79711ec43c1723ff7d8ec"
   },
   "source": [
    "Now, let's put line with ratio and number of deaths on one plot."
   ]
  },
  {
   "cell_type": "code",
   "execution_count": null,
   "metadata": {
    "_cell_guid": "bd8c3252-9d61-4d2b-bb62-1d2c04a45d4d",
    "_kg_hide-input": true,
    "_kg_hide-output": false,
    "_uuid": "259e811a87374c09803c4de4d46d7dda5dd04714"
   },
   "outputs": [],
   "source": [
    "#Plot Fatalities and the ratio per year"
   ]
  },
  {
   "cell_type": "markdown",
   "metadata": {
    "_cell_guid": "53c0e235-cf3f-4a7b-9d4d-47a33e0d8637",
    "_uuid": "da12af5c9f719754bdfd10cf8e00b4ce78c7a96b"
   },
   "source": [
    "With this we can see the peak years and also can observe the general trend of accidents over the years."
   ]
  },
  {
   "cell_type": "markdown",
   "metadata": {
    "_cell_guid": "073c271b-2d32-444a-b97b-99a63190fbe6",
    "_uuid": "44ec3b628128c060b53de766ba9a1f279e30fd9e"
   },
   "source": [
    "### Operators Analysis"
   ]
  },
  {
   "cell_type": "code",
   "execution_count": null,
   "metadata": {
    "_cell_guid": "5cb1fd39-352e-4703-a154-ef3fb5f71a9e",
    "_kg_hide-input": true,
    "_uuid": "8cf07a9dbf2b0a16fb75c6a5c867b221329bda7e"
   },
   "outputs": [],
   "source": [
    "# Lets have a look at the accidents on an operator basis.\n",
    "# Make a bar graph of total accidents per operator"
   ]
  },
  {
   "cell_type": "code",
   "execution_count": null,
   "metadata": {
    "_cell_guid": "0eea2ff5-eb37-4143-ae4e-83475d8e1582",
    "_kg_hide-input": true,
    "_uuid": "ecdd845f75c1511e70c46a95ea189b67d7fb5128"
   },
   "outputs": [],
   "source": [
    "# Make a bar graph of fatalities per operator.\n",
    "# You will observe a significant difference of accidents/fatalities for one operator in particular."
   ]
  },
  {
   "cell_type": "code",
   "execution_count": null,
   "metadata": {
    "_cell_guid": "55c82c00-6638-4ed1-a8c2-cf5158b19cac",
    "_uuid": "1b81f289af0eb9d3a8e4931a9f84a3e7ef0743d7"
   },
   "outputs": [],
   "source": [
    "# Find out which Flight Operators actually have the least number of people involved:"
   ]
  },
  {
   "cell_type": "markdown",
   "metadata": {
    "_cell_guid": "d26347b3-d818-4f10-ac67-2c856bc0f880",
    "_uuid": "e1f3bfc10c8fe9083f5cd3c1ea014cd9f1cf9299"
   },
   "source": [
    "### World Clouds"
   ]
  },
  {
   "cell_type": "code",
   "execution_count": null,
   "metadata": {
    "_cell_guid": "6fee02f8-b03f-444e-9d1a-51e93cab0e70",
    "_kg_hide-input": true,
    "_uuid": "215d9efb2e1a8d08f7e6f71271b9aa0c4d623991"
   },
   "outputs": [],
   "source": [
    "# Create a wordcloud of dataset summary, remember to add words like 'aircraft' and 'plane' to stopwords.\n",
    "from PIL import Image\n",
    "from wordcloud import WordCloud, STOPWORDS\n"
   ]
  },
  {
   "cell_type": "code",
   "execution_count": null,
   "metadata": {
    "_cell_guid": "060270ce-5a02-4254-8ac8-9f3186ab300f",
    "_kg_hide-input": true,
    "_uuid": "92a550a83665255f61dd597a4c922620a8d2478c"
   },
   "outputs": [],
   "source": [
    "# Create a wordcloud of Location of Accidents, you make use additional images provided as a mask.\n",
    "from PIL import Image\n",
    "from wordcloud import WordCloud, STOPWORDS\n"
   ]
  },
  {
   "cell_type": "markdown",
   "metadata": {
    "_cell_guid": "8b15e5a7-363b-46fb-a55f-e2be32bff040",
    "_uuid": "b2f20b615d00770320e787b3ce6162060e75cb89"
   },
   "source": [
    "### Exploring the operator having maximum accidents."
   ]
  },
  {
   "cell_type": "code",
   "execution_count": null,
   "metadata": {
    "_cell_guid": "24733f45-ab9a-4a1c-b21c-5140aaa95f79",
    "_kg_hide-input": true,
    "_uuid": "ffbdc85a86bc7e04dde4c054410caa1c9e043ec0"
   },
   "outputs": [],
   "source": [
    "# By now, we have found out the operator having the maximu number of accidents.\n",
    "# Create a final graph to plot the count of accidents of this operator on a per year basis."
   ]
  },
  {
   "cell_type": "markdown",
   "metadata": {
    "_cell_guid": "01b5d2c6-f0d7-4828-bfa9-985174da8457",
    "_uuid": "ec80ba344be39ef005561482e9d99f8afffdeafa"
   },
   "source": [
    "### Conclusion\n",
    "Remember, the operator having highest accidents may also be running more flights than others. After all this analysis, you have found various things like: Yearly crashes,People were on board,fatalities and surviors, Highest number of crashes by operator ,type of aircrafts,number of crashed aircrafts and number of deaths against each category and interesting trends/behaviors that you encounter when you analyze the dataset."
   ]
  }
 ],
 "metadata": {
  "kernelspec": {
   "display_name": "gpu",
   "language": "python",
   "name": "gpu"
  },
  "language_info": {
   "codemirror_mode": {
    "name": "ipython",
    "version": 3
   },
   "file_extension": ".py",
   "mimetype": "text/x-python",
   "name": "python",
   "nbconvert_exporter": "python",
   "pygments_lexer": "ipython3",
   "version": "3.7.6"
  }
 },
 "nbformat": 4,
 "nbformat_minor": 1
}
