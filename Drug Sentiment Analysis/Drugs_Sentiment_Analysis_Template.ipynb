{
  "nbformat": 4,
  "nbformat_minor": 0,
  "metadata": {
    "kernelspec": {
      "language": "python",
      "display_name": "Python 3",
      "name": "python3"
    },
    "language_info": {
      "pygments_lexer": "ipython3",
      "nbconvert_exporter": "python",
      "version": "3.6.4",
      "file_extension": ".py",
      "codemirror_mode": {
        "name": "ipython",
        "version": 3
      },
      "name": "python",
      "mimetype": "text/x-python"
    },
    "colab": {
      "name": "Drugs Sentiment Analysis_Template.ipynb",
      "provenance": [],
      "collapsed_sections": []
    }
  },
  "cells": [
    {
      "cell_type": "markdown",
      "metadata": {
        "id": "4WYLR5vQcmx9",
        "colab_type": "text"
      },
      "source": [
        "# Drug Sentiment Analysis"
      ]
    },
    {
      "cell_type": "markdown",
      "metadata": {
        "id": "hyHH1hlycmyH",
        "colab_type": "text"
      },
      "source": [
        "## Problem Statement\n",
        "The dataset provides patient reviews on specific drugs along with related conditions and a 10 star patient rating reflecting overall patient satisfaction. We have to create a target feature out of ratings and predict the sentiment of the reviews."
      ]
    },
    {
      "cell_type": "markdown",
      "metadata": {
        "id": "O42sXp6xcmyJ",
        "colab_type": "text"
      },
      "source": [
        "### Data Description :\n",
        "\n",
        "The data is split into a train (75%) a test (25%) partition.\n",
        "\n",
        "* drugName (categorical): name of drug\n",
        "* condition (categorical): name of condition\n",
        "* review (text): patient review\n",
        "* rating (numerical): 10 star patient rating\n",
        "* date (date): date of review entry\n",
        "* usefulCount (numerical): number of users who found review useful\n",
        "\n",
        "The structure of the data is that a patient with a unique ID purchases a drug that meets his condition and writes a review and rating for the drug he/she purchased on the date. Afterwards, if the others read that review and find it helpful, they will click usefulCount, which will add 1 for the variable."
      ]
    },
    {
      "cell_type": "markdown",
      "metadata": {
        "id": "klKtZHRAfG3s",
        "colab_type": "text"
      },
      "source": [
        "### Import all the necessary packages\n",
        "Here we have imported the basic packages that are required to do basic processing. Feel free to use any library that you think can be useful here."
      ]
    },
    {
      "cell_type": "code",
      "metadata": {
        "_uuid": "39f7afa7-dce7-4db7-9a37-29b56845a928",
        "_cell_guid": "1958231a-20a7-4fbb-ab4e-6422838f6d8a",
        "trusted": true,
        "id": "-JszlLjxcmya",
        "colab_type": "code",
        "colab": {}
      },
      "source": [
        "import matplotlib.pyplot as plt\n",
        "import numpy as np\n",
        "import pandas as pd\n",
        "import seaborn as sns\n",
        "%matplotlib inline\n",
        "from matplotlib import style\n",
        "style.use('ggplot')"
      ],
      "execution_count": 0,
      "outputs": []
    },
    {
      "cell_type": "markdown",
      "metadata": {
        "id": "f_EFcuOSgBGD",
        "colab_type": "text"
      },
      "source": [
        "###Load Data"
      ]
    },
    {
      "cell_type": "code",
      "metadata": {
        "_uuid": "a75c997f-1fe8-4ffa-af75-be913ed573a9",
        "_cell_guid": "a4617fbc-5b2f-4a93-92c2-f4d20a4a1e0a",
        "trusted": true,
        "id": "JQr7uyJAcmyi",
        "colab_type": "code",
        "colab": {}
      },
      "source": [
        "#load the train and test data\n",
        "test = pd.read_csv('mention-data-path')\n",
        "train = pd.read_csv('mention-data-path')"
      ],
      "execution_count": 0,
      "outputs": []
    },
    {
      "cell_type": "markdown",
      "metadata": {
        "id": "naGQpGoJh0a3",
        "colab_type": "text"
      },
      "source": [
        "###Checking Out The Data"
      ]
    },
    {
      "cell_type": "code",
      "metadata": {
        "_uuid": "b6ccc833-1706-4291-a3d0-7630f893c7a8",
        "_cell_guid": "2d4cc03e-3214-4903-b04b-4689c0d1e349",
        "trusted": true,
        "id": "mopAIDJvcmyo",
        "colab_type": "code",
        "colab": {}
      },
      "source": [
        "#write code to check the head of train data"
      ],
      "execution_count": 0,
      "outputs": []
    },
    {
      "cell_type": "code",
      "metadata": {
        "_uuid": "438d1681-f4e9-4477-9b8a-f758c1902bea",
        "_cell_guid": "668db8cc-6276-40d7-b505-745bb685b913",
        "trusted": true,
        "id": "0zE_zp5kcmyv",
        "colab_type": "code",
        "colab": {}
      },
      "source": [
        "#Write code to check head of train data "
      ],
      "execution_count": 0,
      "outputs": []
    },
    {
      "cell_type": "code",
      "metadata": {
        "_uuid": "04adfed9-ade0-478a-8ad7-336d2ca3f90e",
        "_cell_guid": "fb19bedf-6959-424e-85bb-743f202d0606",
        "trusted": true,
        "id": "DznirfmAcmy4",
        "colab_type": "code",
        "colab": {}
      },
      "source": [
        "#check the shape of the given dataset\n",
        "\n",
        "#write code to check the shape of train data\n",
        "#write code to check the shape of test data"
      ],
      "execution_count": 0,
      "outputs": []
    },
    {
      "cell_type": "code",
      "metadata": {
        "_uuid": "bd1556ef-e22d-43e3-b153-ddf714704496",
        "_cell_guid": "8408627d-46fb-4d37-8a84-fc5fea689ffc",
        "trusted": true,
        "id": "GdiSXysQcmy-",
        "colab_type": "code",
        "colab": {}
      },
      "source": [
        "#write code to check the columns in train data"
      ],
      "execution_count": 0,
      "outputs": []
    },
    {
      "cell_type": "markdown",
      "metadata": {
        "id": "-z10BhItcmzF",
        "colab_type": "text"
      },
      "source": [
        "## Exploratory Data Analysis"
      ]
    },
    {
      "cell_type": "markdown",
      "metadata": {
        "id": "M7IhoZRQkoCF",
        "colab_type": "text"
      },
      "source": [
        "The purpose of EDA is to find out interesting insights and irregularities in our Dataset. We will look at Each feature and try to find out interesting facts and patterns from them. And see whether there is any relationship between the variables or not."
      ]
    },
    {
      "cell_type": "markdown",
      "metadata": {
        "id": "5qAbG0d1cmzG",
        "colab_type": "text"
      },
      "source": [
        "Merge the train and test data as there are no target labels. We will perform our EDA and Pre-processing on merged data. Then we will divide training and testing"
      ]
    },
    {
      "cell_type": "code",
      "metadata": {
        "_uuid": "4194e136-3c1b-4f4f-81c9-fe385f48b759",
        "_cell_guid": "57677c7f-7eca-4f9e-89b0-601d238fa735",
        "trusted": true,
        "id": "CT1pOSNocmzH",
        "colab_type": "code",
        "colab": {}
      },
      "source": [
        "#merge train and test data\n",
        "\n",
        "merge = [train,test]\n",
        "merged_data = #write code to merge the data\n",
        "\n",
        "# write code to check the shape of merged_data"
      ],
      "execution_count": 0,
      "outputs": []
    },
    {
      "cell_type": "markdown",
      "metadata": {
        "id": "fkpaFO3TcmzM",
        "colab_type": "text"
      },
      "source": [
        "### Check number of uniqueIds to see if there's any duplicate record in our dataset"
      ]
    },
    {
      "cell_type": "code",
      "metadata": {
        "trusted": true,
        "id": "yGBfvbtXcmzN",
        "colab_type": "code",
        "colab": {}
      },
      "source": [
        "#write code to check the number of unique ids"
      ],
      "execution_count": 0,
      "outputs": []
    },
    {
      "cell_type": "markdown",
      "metadata": {
        "id": "roKmEDVpcmzU",
        "colab_type": "text"
      },
      "source": [
        "### Check information of the merged data"
      ]
    },
    {
      "cell_type": "code",
      "metadata": {
        "trusted": true,
        "id": "bojYC67VcmzX",
        "colab_type": "code",
        "colab": {}
      },
      "source": [
        "#write code to check the information about merged data"
      ],
      "execution_count": 0,
      "outputs": []
    },
    {
      "cell_type": "markdown",
      "metadata": {
        "id": "jhjX32Gzcmzd",
        "colab_type": "text"
      },
      "source": [
        "### Check the Description"
      ]
    },
    {
      "cell_type": "code",
      "metadata": {
        "trusted": true,
        "id": "nsDMm3xJcmze",
        "colab_type": "code",
        "colab": {}
      },
      "source": [
        "#write code to check the description of merged data\n",
        "  '''Note -  the description should also include all the categorical variables'''"
      ],
      "execution_count": 0,
      "outputs": []
    },
    {
      "cell_type": "markdown",
      "metadata": {
        "id": "YCzPxwq5cmzk",
        "colab_type": "text"
      },
      "source": [
        "### Check the Number of null values in each column"
      ]
    },
    {
      "cell_type": "code",
      "metadata": {
        "trusted": true,
        "id": "ApRzC7M9cmzm",
        "colab_type": "code",
        "colab": {}
      },
      "source": [
        "#Write code to check null values in merged data"
      ],
      "execution_count": 0,
      "outputs": []
    },
    {
      "cell_type": "markdown",
      "metadata": {
        "id": "cAs_hl2moB-I",
        "colab_type": "text"
      },
      "source": [
        "### Check number of unique values in drugName and condition"
      ]
    },
    {
      "cell_type": "code",
      "metadata": {
        "_uuid": "8efe468d-c24d-42fa-b187-4e7cbef98067",
        "_cell_guid": "348f25b3-2f96-4e6c-9239-8e262b3ca921",
        "trusted": true,
        "id": "XcFPC38icmzs",
        "colab_type": "code",
        "colab": {}
      },
      "source": [
        "#check number of unique values in drugName\n",
        "\n",
        "\n",
        "#check number of unique values in condition\n"
      ],
      "execution_count": 0,
      "outputs": []
    },
    {
      "cell_type": "markdown",
      "metadata": {
        "id": "zWo4HuOzcmz6",
        "colab_type": "text"
      },
      "source": [
        "### Check the top 20 conditions"
      ]
    },
    {
      "cell_type": "code",
      "metadata": {
        "trusted": true,
        "id": "HDq40lymcmz7",
        "colab_type": "code",
        "colab": {}
      },
      "source": [
        "#plot a bargraph to check top 20 conditions\n",
        "plt.figure(figsize=(12,6))\n",
        "\n",
        "#write your code to here\n",
        "\n",
        "\n"
      ],
      "execution_count": 0,
      "outputs": []
    },
    {
      "cell_type": "markdown",
      "metadata": {
        "id": "AbneidWBcm0C",
        "colab_type": "text"
      },
      "source": [
        "### Plot the bottom 20 conditions"
      ]
    },
    {
      "cell_type": "code",
      "metadata": {
        "trusted": true,
        "id": "eA4P-gAicm0E",
        "colab_type": "code",
        "colab": {}
      },
      "source": [
        "#plot a bargraph to check bottom 20 conditions\n",
        "plt.figure(figsize=(12,6))\n",
        "# write your code to check the bottom-20 conditions\n",
        "\n",
        "\n"
      ],
      "execution_count": 0,
      "outputs": []
    },
    {
      "cell_type": "markdown",
      "metadata": {
        "id": "0OcLFlQzcm0K",
        "colab_type": "text"
      },
      "source": [
        "### Check top 20 drugName"
      ]
    },
    {
      "cell_type": "code",
      "metadata": {
        "trusted": true,
        "id": "UYJgT5p9cm0L",
        "colab_type": "code",
        "colab": {}
      },
      "source": [
        "#plot a bargraph to check top 20 drugName\n",
        "plt.figure(figsize=(12,6))\n",
        "\n",
        "#write your code here"
      ],
      "execution_count": 0,
      "outputs": []
    },
    {
      "cell_type": "markdown",
      "metadata": {
        "id": "iaaBJHhfcm0Q",
        "colab_type": "text"
      },
      "source": [
        "### Check bottom 20 drugName"
      ]
    },
    {
      "cell_type": "code",
      "metadata": {
        "trusted": true,
        "id": "gaoMxrF0cm0R",
        "colab_type": "code",
        "colab": {}
      },
      "source": [
        "#plot a bargraph to check top 20 drugName\n",
        "plt.figure(figsize=(12,6))\n",
        "\n",
        "#write your code here"
      ],
      "execution_count": 0,
      "outputs": []
    },
    {
      "cell_type": "markdown",
      "metadata": {
        "id": "Js1xa2ePcm0X",
        "colab_type": "text"
      },
      "source": [
        "### Checking Ratings Distribution"
      ]
    },
    {
      "cell_type": "code",
      "metadata": {
        "_uuid": "631c7e75-ad6f-43d8-95f2-b613758ea6b5",
        "_cell_guid": "0c0bd489-5356-47b2-bfcd-4471fe17b588",
        "trusted": true,
        "id": "v5HPfi0kcm0X",
        "colab_type": "code",
        "colab": {}
      },
      "source": [
        "\n",
        "#Write your code to get the value counts in descending order and reset the index as rating and counts\n"
      ],
      "execution_count": 0,
      "outputs": []
    },
    {
      "cell_type": "code",
      "metadata": {
        "_uuid": "a305ebe8-08f2-4117-8122-efbca8f25045",
        "_cell_guid": "f374ff6c-3b26-4bce-837c-deeb3ef60efd",
        "trusted": true,
        "id": "9zYfs3Ukcm0f",
        "colab_type": "code",
        "colab": {}
      },
      "source": [
        "# plot a bar chart to check the distribution of ratings"
      ],
      "execution_count": 0,
      "outputs": []
    },
    {
      "cell_type": "markdown",
      "metadata": {
        "id": "gs2HxyZycm0l",
        "colab_type": "text"
      },
      "source": [
        "### Check the distribution of usefulCount"
      ]
    },
    {
      "cell_type": "code",
      "metadata": {
        "trusted": true,
        "id": "W1wOp6COcm0m",
        "colab_type": "code",
        "colab": {}
      },
      "source": [
        "\n",
        "#Write code to plot a distplot of usefulCount\n"
      ],
      "execution_count": 0,
      "outputs": []
    },
    {
      "cell_type": "code",
      "metadata": {
        "trusted": true,
        "id": "QAAD3ehQcm0v",
        "colab_type": "code",
        "colab": {}
      },
      "source": [
        "# Write code to plot a boxplot of usefulCount to see five number summary"
      ],
      "execution_count": 0,
      "outputs": []
    },
    {
      "cell_type": "markdown",
      "metadata": {
        "id": "jqj2LJ7xcm00",
        "colab_type": "text"
      },
      "source": [
        "### Check number of Drugs per condition"
      ]
    },
    {
      "cell_type": "code",
      "metadata": {
        "_uuid": "a416f8d1-f057-47c5-be82-37dd97633573",
        "_cell_guid": "63dbb417-f980-416f-afef-89b1a06985f6",
        "trusted": true,
        "id": "rBveUSnScm01",
        "colab_type": "code",
        "colab": {}
      },
      "source": [
        "#lets check the number of drugs/condition\n",
        "\n",
        "#write code to check the number of drugs present per condition"
      ],
      "execution_count": 0,
      "outputs": []
    },
    {
      "cell_type": "markdown",
      "metadata": {
        "_uuid": "70a9564b-c106-476b-bdf2-5d0ad084f604",
        "_cell_guid": "0019994c-97fc-4eef-8052-29ee8b323379",
        "trusted": true,
        "id": "eKlx6myLcm07",
        "colab_type": "text"
      },
      "source": [
        "##### Let's look at ''3 <_/span_> user found this comment helpful' in condtions"
      ]
    },
    {
      "cell_type": "code",
      "metadata": {
        "_uuid": "59915372-5594-45b7-81f0-6e4cb9241244",
        "_cell_guid": "ec1e82ad-f344-41e4-9dac-2b4bb8c26373",
        "trusted": true,
        "id": "SG8dE5uCcm09",
        "colab_type": "code",
        "colab": {}
      },
      "source": [
        "span_data = #write code to get all the records which has conditions values following the pattern('</span>')\n",
        "\n",
        "#print span_data\n",
        "\n",
        "noisy_data_ = #Write code to check percentage span_data out of total records\n",
        "\n",
        "#print percentage of nosiy_data"
      ],
      "execution_count": 0,
      "outputs": []
    },
    {
      "cell_type": "code",
      "metadata": {
        "_uuid": "a8bd5809-dbdb-4a3b-853c-d1cf34bd38d1",
        "_cell_guid": "ca811552-9985-46a2-b34a-b16d744f4aab",
        "trusted": true,
        "id": "7vEA8jNpcm1D",
        "colab_type": "code",
        "colab": {}
      },
      "source": [
        "\n",
        "#Write code to drop the noisy data \n"
      ],
      "execution_count": 0,
      "outputs": []
    },
    {
      "cell_type": "markdown",
      "metadata": {
        "_uuid": "a733971c-4bc6-4f8e-976c-e0ef9f1e4342",
        "_cell_guid": "cf78388a-fb11-4333-a4ef-293f17777223",
        "trusted": true,
        "id": "KEMbq8LJcm1H",
        "colab_type": "text"
      },
      "source": [
        "### Now let's look at the not listed/other"
      ]
    },
    {
      "cell_type": "code",
      "metadata": {
        "_uuid": "0fc68de2-2e80-4bfb-8e49-336b1b9661b5",
        "_cell_guid": "d79390e0-756f-4a66-bbda-45dac1a31579",
        "trusted": true,
        "id": "u6sPIqehcm1I",
        "colab_type": "code",
        "colab": {}
      },
      "source": [
        "#Write code to check the percentage of 'not listed / othe' conditions in our dataset"
      ],
      "execution_count": 0,
      "outputs": []
    },
    {
      "cell_type": "code",
      "metadata": {
        "_uuid": "98df698b-0529-446a-bc73-59433d85e586",
        "_cell_guid": "f4646fc8-8247-47e0-a037-8874a8e29893",
        "trusted": true,
        "id": "iFKG5kUAcm1R",
        "colab_type": "code",
        "colab": {}
      },
      "source": [
        "#Write code to drop the records where Condition == ''not listed / othe''"
      ],
      "execution_count": 0,
      "outputs": []
    },
    {
      "cell_type": "markdown",
      "metadata": {
        "id": "kj-JaZBRcm1b",
        "colab_type": "text"
      },
      "source": [
        "### Now Check number of drugs present per condition after removing noise"
      ]
    },
    {
      "cell_type": "code",
      "metadata": {
        "_uuid": "b109b30c-d3c0-491a-a077-a0683ba0cbac",
        "_cell_guid": "68be6ce0-e2f5-41ae-bca6-40a17f41803f",
        "trusted": true,
        "id": "5PLu8Ekncm1e",
        "colab_type": "code",
        "colab": {}
      },
      "source": [
        "#lets check top-20 condition with higher number of drugs\n",
        "\n",
        "#write your code here to plot a bargraph to see the number of drugs per condition (top-20)"
      ],
      "execution_count": 0,
      "outputs": []
    },
    {
      "cell_type": "markdown",
      "metadata": {
        "id": "QEzBZCflcm1n",
        "colab_type": "text"
      },
      "source": [
        "### Check bottom 20 drugs per conditions"
      ]
    },
    {
      "cell_type": "code",
      "metadata": {
        "_uuid": "611efcc6-44b7-414d-b916-d4ebf5b1bced",
        "_cell_guid": "462e8087-ad2b-4209-a8e8-ad538caebcc4",
        "trusted": true,
        "id": "tQdp4zHZcm1p",
        "colab_type": "code",
        "colab": {}
      },
      "source": [
        "#Write code to check the number of drugs per condtion bottom-20"
      ],
      "execution_count": 0,
      "outputs": []
    },
    {
      "cell_type": "markdown",
      "metadata": {
        "id": "w6gUk0Cvcm1y",
        "colab_type": "text"
      },
      "source": [
        "### Now let's check if a single drug can be used for Multiple conditions"
      ]
    },
    {
      "cell_type": "code",
      "metadata": {
        "_uuid": "e988c512-fd86-4ec5-9c8f-0922e93fc53a",
        "_cell_guid": "54903d7b-e41a-46e0-b060-92e99dadd407",
        "trusted": true,
        "id": "7uxdlxV6cm1z",
        "colab_type": "code",
        "colab": {}
      },
      "source": [
        "#let's check if a single drug is used for multiple conditions\n",
        "drug_multiple_cond = #Write code to get the drugName and for number of conditions it is used for\n",
        "\n",
        "print(drug_multiple_cond)"
      ],
      "execution_count": 0,
      "outputs": []
    },
    {
      "cell_type": "markdown",
      "metadata": {
        "id": "NhXKiI4rcm15",
        "colab_type": "text"
      },
      "source": [
        "### Check the number of drugs with rating 10"
      ]
    },
    {
      "cell_type": "code",
      "metadata": {
        "_uuid": "a6ec5c5a-7138-400b-8967-33f96165b420",
        "_cell_guid": "61189e32-fe2d-49fe-9f23-d07bde7e07af",
        "trusted": true,
        "id": "ddPUv8J8cm16",
        "colab_type": "code",
        "colab": {}
      },
      "source": [
        "#Write code to check the Number of drugs with rating 10.\n"
      ],
      "execution_count": 0,
      "outputs": []
    },
    {
      "cell_type": "markdown",
      "metadata": {
        "id": "rTqXlet7cm2H",
        "colab_type": "text"
      },
      "source": [
        "### Check number of drugs with rating 10"
      ]
    },
    {
      "cell_type": "code",
      "metadata": {
        "_uuid": "1c614afc-779a-44c3-9df5-f7004c4a6f5b",
        "_cell_guid": "c283c949-2738-478d-898f-c26254f78d73",
        "trusted": true,
        "id": "SFk_S3cRcm2I",
        "colab_type": "code",
        "colab": {}
      },
      "source": [
        "#Check top 20 drugs with rating=10/10\n",
        "\n",
        "#Write code to check top-20 drugName with rating-10"
      ],
      "execution_count": 0,
      "outputs": []
    },
    {
      "cell_type": "markdown",
      "metadata": {
        "id": "_eq-CLzzcm2a",
        "colab_type": "text"
      },
      "source": [
        "### Top 10 drugs with 1/10 Rating"
      ]
    },
    {
      "cell_type": "code",
      "metadata": {
        "_uuid": "76dc7ad7-a7b8-4cf6-a15e-12da70a1e98f",
        "_cell_guid": "ee58eaca-ab67-4923-a785-170dc603a4d3",
        "trusted": true,
        "id": "fgYv_ilhcm2b",
        "colab_type": "code",
        "colab": {}
      },
      "source": [
        "#check top 20 drugs with 1/10 rating\n",
        "\n",
        "#Write your code to check the top-20 drugs with rating 1/10"
      ],
      "execution_count": 0,
      "outputs": []
    },
    {
      "cell_type": "markdown",
      "metadata": {
        "id": "1Kzuzb09cm2m",
        "colab_type": "text"
      },
      "source": [
        "### Now we will look at the Date column"
      ]
    },
    {
      "cell_type": "code",
      "metadata": {
        "_uuid": "f4f672e4-f608-4687-9a3d-eca4dbdd2fef",
        "_cell_guid": "1e2bfea6-502c-4d99-87de-3b0b91a709fe",
        "trusted": true,
        "id": "bUjmCjnNcm2n",
        "colab_type": "code",
        "colab": {}
      },
      "source": [
        "# convert date to datetime and create year andd month features\n",
        "\n",
        "merged_data['date'] = pd.to_datetime(merged_data['date'])\n",
        "merged_data['year'] = merged_data['date'].dt.year  #create year\n",
        "merged_data['month'] = merged_data['date'].dt.month #create month"
      ],
      "execution_count": 0,
      "outputs": []
    },
    {
      "cell_type": "markdown",
      "metadata": {
        "id": "ZCw3puzHcm2r",
        "colab_type": "text"
      },
      "source": [
        "### Check Number of reviews per year"
      ]
    },
    {
      "cell_type": "code",
      "metadata": {
        "trusted": true,
        "id": "YCyPBLrtcm2r",
        "colab_type": "code",
        "colab": {}
      },
      "source": [
        "#plot number of reviews year wise\n",
        "count_reviews = merged_data['year'].value_counts().sort_index()\n",
        "\n",
        "#plot a bargraph to check number of reviews per year"
      ],
      "execution_count": 0,
      "outputs": []
    },
    {
      "cell_type": "markdown",
      "metadata": {
        "id": "QwTXKojLcm25",
        "colab_type": "text"
      },
      "source": [
        "### Check average rating per year"
      ]
    },
    {
      "cell_type": "code",
      "metadata": {
        "trusted": true,
        "id": "2j-cIxT5cm26",
        "colab_type": "code",
        "colab": {}
      },
      "source": [
        "#check average rating per year\n",
        "yearly_mean_rating = merged_data.groupby('year')['rating'].mean()\n",
        "\n",
        "#Write code to plot a bargraph showing average rating per year"
      ],
      "execution_count": 0,
      "outputs": []
    },
    {
      "cell_type": "markdown",
      "metadata": {
        "id": "w2vyLlI2cm3E",
        "colab_type": "text"
      },
      "source": [
        "### Per year drug count and Condition count"
      ]
    },
    {
      "cell_type": "code",
      "metadata": {
        "trusted": true,
        "id": "9QTt3mrFcm3E",
        "colab_type": "code",
        "colab": {}
      },
      "source": [
        "\n",
        "year_wise_condition = merged_data.groupby('year')['condition'].nunique()\n",
        "\n",
        "#plot a bargraph to check the condtions per year"
      ],
      "execution_count": 0,
      "outputs": []
    },
    {
      "cell_type": "code",
      "metadata": {
        "trusted": true,
        "id": "P_ATgB1wcm3L",
        "colab_type": "code",
        "colab": {}
      },
      "source": [
        "#check drugs year wise\n",
        "\n",
        "year_wise_drug = merged_data.groupby('year')['drugName'].nunique()\n",
        "\n",
        "#plot a bargraph to check the drugName per year"
      ],
      "execution_count": 0,
      "outputs": []
    },
    {
      "cell_type": "markdown",
      "metadata": {
        "id": "nEpTmp5rcm3V",
        "colab_type": "text"
      },
      "source": [
        "## Data Pre-Processing"
      ]
    },
    {
      "cell_type": "markdown",
      "metadata": {
        "id": "3IH8bI913OcH",
        "colab_type": "text"
      },
      "source": [
        "Data Pre-processing is a vital part in model building. **\"Garbage In Garbage Out\"**, we all have heard this statement. But what does it mean. It means if we feed in garbage in our data like missing values, and different features which doesn't have any predictive power and provides the same information in our model. Our model will be just making a random guess and it won't be efficient enough for us to use it for any predictions."
      ]
    },
    {
      "cell_type": "markdown",
      "metadata": {
        "id": "v6WRL0tm4SlF",
        "colab_type": "text"
      },
      "source": [
        "We will remove those unwanted features and noise from our data. We also know that we can only feed in numerical values in our model but here we have numerical as well as categorical features as well. We will transform those categorical features into numric values."
      ]
    },
    {
      "cell_type": "code",
      "metadata": {
        "trusted": true,
        "id": "vC4AiVv9cm3W",
        "colab_type": "code",
        "colab": {}
      },
      "source": [
        "# Write code to check the null values\n"
      ],
      "execution_count": 0,
      "outputs": []
    },
    {
      "cell_type": "code",
      "metadata": {
        "trusted": true,
        "id": "e0RuG0S1cm3p",
        "colab_type": "code",
        "colab": {}
      },
      "source": [
        "#Write code to drop the null values\n"
      ],
      "execution_count": 0,
      "outputs": []
    },
    {
      "cell_type": "markdown",
      "metadata": {
        "id": "tU76Kej5cm3s",
        "colab_type": "text"
      },
      "source": [
        "### Pre-Processing Reviews"
      ]
    },
    {
      "cell_type": "code",
      "metadata": {
        "trusted": true,
        "id": "_X3Jy9HKcm3u",
        "colab_type": "code",
        "outputId": "d48554b9-9c87-4a12-fe66-bb4b044a9e0d",
        "colab": {}
      },
      "source": [
        "#check first three reviews\n",
        "for i in merged_data['review'][0:3]:\n",
        "    print(i,'\\n')"
      ],
      "execution_count": 0,
      "outputs": [
        {
          "output_type": "stream",
          "text": [
            "\"It has no side effect, I take it in combination of Bystolic 5 Mg and Fish Oil\" \n",
            "\n",
            "\"My son is halfway through his fourth week of Intuniv. We became concerned when he began this last week, when he started taking the highest dose he will be on. For two days, he could hardly get out of bed, was very cranky, and slept for nearly 8 hours on a drive home from school vacation (very unusual for him.) I called his doctor on Monday morning and she said to stick it out a few days. See how he did at school, and with getting up in the morning. The last two days have been problem free. He is MUCH more agreeable than ever. He is less emotional (a good thing), less cranky. He is remembering all the things he should. Overall his behavior is better. \r\n",
            "We have tried many different medications and so far this is the most effective.\" \n",
            "\n",
            "\"I used to take another oral contraceptive, which had 21 pill cycle, and was very happy- very light periods, max 5 days, no other side effects. But it contained hormone gestodene, which is not available in US, so I switched to Lybrel, because the ingredients are similar. When my other pills ended, I started Lybrel immediately, on my first day of period, as the instructions said. And the period lasted for two weeks. When taking the second pack- same two weeks. And now, with third pack things got even worse- my third period lasted for two weeks and now it&#039;s the end of the third week- I still have daily brown discharge.\r\n",
            "The positive side is that I didn&#039;t have any other side effects. The idea of being period free was so tempting... Alas.\" \n",
            "\n"
          ],
          "name": "stdout"
        }
      ]
    },
    {
      "cell_type": "markdown",
      "metadata": {
        "id": "t8ybYT9pcm37",
        "colab_type": "text"
      },
      "source": [
        "### Steps for reviews pre-processing.\n",
        "* **Remove HTML tags**\n",
        "     * Using BeautifulSoup from bs4 module to remove the html tags. We have already removed the html tags with pattern \"64</_span_>...\", we will use get_text() to remove the html tags if there are any.\n",
        "* **Remove Stop Words**\n",
        "     * Remove the stopwords like \"a\", \"the\", \"I\" etc.\n",
        "* **Remove symbols and special characters**\n",
        "     * We will remove the special characters from our reviews like '#' ,'&' ,'@' etc.\n",
        "* **Tokenize**\n",
        "     * We will tokenize the words. We will split the sentences with spaces e.g \"I might come\" --> \"I\", \"might\", \"come\"\n",
        "* **Stemming**\n",
        "     * Remove the suffixes from the words to get the root form of the word e.g 'Wording' --> \"Word\""
      ]
    },
    {
      "cell_type": "code",
      "metadata": {
        "trusted": true,
        "id": "sUlPPZxocm38",
        "colab_type": "code",
        "colab": {}
      },
      "source": [
        "#import the libraries for pre-processing\n",
        "from bs4 import BeautifulSoup\n",
        "import nltk\n",
        "import re\n",
        "from nltk.corpus import stopwords\n",
        "from nltk.stem.snowball import SnowballStemmer\n",
        "\n",
        "stops = set(stopwords.words('english')) #english stopwords\n",
        "\n",
        "stemmer = SnowballStemmer('english') #SnowballStemmer\n",
        "\n",
        "def review_to_words(raw_review):\n",
        "\n",
        "    # 1. Delete HTML \n",
        "    review_text = #Write code to delete all the html tags\n",
        "\n",
        "    # 2. Make a space\n",
        "    letters_only = #Write code to set spaces between words\n",
        "\n",
        "    # 3. lower letters\n",
        "    words = #write code to lower all the reviews and split it\n",
        "\n",
        "    # 5. Stopwords \n",
        "    meaningful_words = #Write code to remove stopwords\n",
        "\n",
        "    # 6. Stemming\n",
        "    stemming_words = #write code to apply stemming on meaningful_words\n",
        "    # 7. space join words\n",
        "    return( ' '.join(stemming_words))"
      ],
      "execution_count": 0,
      "outputs": []
    },
    {
      "cell_type": "code",
      "metadata": {
        "trusted": true,
        "id": "-XKsRJ6xcm4O",
        "colab_type": "code",
        "colab": {}
      },
      "source": [
        "#apply review_to_words function on reviews"
      ],
      "execution_count": 0,
      "outputs": []
    },
    {
      "cell_type": "markdown",
      "metadata": {
        "id": "ow0D8sS2cm4a",
        "colab_type": "text"
      },
      "source": [
        "### Now we will create our target variable \"Sentiment\" from rating"
      ]
    },
    {
      "cell_type": "code",
      "metadata": {
        "trusted": true,
        "id": "UEZq_H6acm4b",
        "colab_type": "code",
        "colab": {}
      },
      "source": [
        "#create sentiment feature from ratings\n",
        "#if rating > 5 sentiment = 1 (positive)\n",
        "#if rating < 5 sentiment = 0 (negative)\n",
        "\n",
        "#Write your code here"
      ],
      "execution_count": 0,
      "outputs": []
    },
    {
      "cell_type": "markdown",
      "metadata": {
        "id": "wj4FRLv7cm4g",
        "colab_type": "text"
      },
      "source": [
        "## Building Model"
      ]
    },
    {
      "cell_type": "code",
      "metadata": {
        "trusted": true,
        "id": "ey3Sjckecm4h",
        "colab_type": "code",
        "colab": {}
      },
      "source": [
        "#import all the necessary packages\n",
        "from sklearn.model_selection import train_test_split #import train_test_split\n",
        "from sklearn.feature_extraction.text import TfidfVectorizer #import TfidfVectorizer \n",
        "from sklearn.metrics import confusion_matrix #import confusion_matrix\n",
        "from sklearn.naive_bayes import MultinomialNB #import MultinomialNB\n",
        "from sklearn.ensemble import RandomForestClassifier  #import RandomForestClassifier"
      ],
      "execution_count": 0,
      "outputs": []
    },
    {
      "cell_type": "markdown",
      "metadata": {
        "id": "W4q5AtMDcm4u",
        "colab_type": "text"
      },
      "source": [
        "### TfidfVectorizer (Term frequency - Inverse document frequency)\n",
        "We all know that we cannot pass raw text features in our model. We have to convert them into numeric values. We will use TfidfVectorizer to convert our reviews in Vectors.\\\n",
        "\n",
        "**TF - Term Frequency** :- \n",
        "\n",
        "How often a term t occurs in a document d.\n",
        "\n",
        "TF = (_Number of occurences of a word in document_) / (_Number of words in that document_)\n",
        "\n",
        "**Inverse  Document Frequency**\n",
        "\n",
        "IDF = log(Number of sentences / Number of sentence containing word)\n",
        "\n",
        "**Tf - Idf = Tf * Idf**\n"
      ]
    },
    {
      "cell_type": "code",
      "metadata": {
        "trusted": true,
        "id": "QtaEWDJPcm4v",
        "colab_type": "code",
        "colab": {}
      },
      "source": [
        "# Creates TF-IDF vectorizer and transforms the corpus\n",
        "vectorizer = TfidfVectorizer()\n",
        "reviews_corpus = #fit the vectorizer on reviews\n",
        "reviews_corpus.shape"
      ],
      "execution_count": 0,
      "outputs": []
    },
    {
      "cell_type": "markdown",
      "metadata": {
        "id": "Mhk23gVncm49",
        "colab_type": "text"
      },
      "source": [
        "### **Store Dependent feature in sentiment and split the Data into train and test**"
      ]
    },
    {
      "cell_type": "code",
      "metadata": {
        "trusted": true,
        "id": "-Np32Fsrcm4-",
        "colab_type": "code",
        "colab": {}
      },
      "source": [
        "#dependent feature\n",
        "sentiment = #Write code to store target feature i.e sentiment in sentiment variable\n",
        "\n",
        "#write code to check the shape"
      ],
      "execution_count": 0,
      "outputs": []
    },
    {
      "cell_type": "code",
      "metadata": {
        "trusted": true,
        "id": "EryFSJ6Lcm5C",
        "colab_type": "code",
        "colab": {}
      },
      "source": [
        "#split the data in train and test\n",
        "\n",
        "X_train,X_test,Y_train,Y_test = #Write code to split data into training and testing (test_size = 0.33)\n",
        "\n",
        "#check shape of training set\n",
        "#check shape of testing set"
      ],
      "execution_count": 0,
      "outputs": []
    },
    {
      "cell_type": "markdown",
      "metadata": {
        "id": "K2llP8TCcm5F",
        "colab_type": "text"
      },
      "source": [
        "### Apply Multinomial Naive Bayes"
      ]
    },
    {
      "cell_type": "code",
      "metadata": {
        "trusted": true,
        "id": "0aok9ovXcm5G",
        "colab_type": "code",
        "colab": {}
      },
      "source": [
        "#fit the model and predicct the output\n",
        "\n",
        "clf = MultinomialNB() #fit the training data\n",
        "\n",
        "pred =  #predict the sentiment for test data\n",
        "\n",
        "#Write code to check accuracy\n",
        "\n",
        "#print confusion matrix"
      ],
      "execution_count": 0,
      "outputs": []
    },
    {
      "cell_type": "markdown",
      "metadata": {
        "id": "H0Edz8uscm5L",
        "colab_type": "text"
      },
      "source": [
        "### Apply RandomForest"
      ]
    },
    {
      "cell_type": "code",
      "metadata": {
        "trusted": true,
        "id": "lVXXSF6Fcm5M",
        "colab_type": "code",
        "colab": {}
      },
      "source": [
        "#fit the model and predicct the output\n",
        "\n",
        "clf = RandomForestClassifier() #Write code to fit training data\n",
        "\n",
        "pred = # Predict the target labels\n",
        "\n",
        "#Write code to check accuracy\n",
        "\n",
        "#print confusion matrix"
      ],
      "execution_count": 0,
      "outputs": []
    },
    {
      "cell_type": "markdown",
      "metadata": {
        "id": "z9NrJLuGm0KC",
        "colab_type": "text"
      },
      "source": [
        "##Parameter Tuning"
      ]
    },
    {
      "cell_type": "code",
      "metadata": {
        "trusted": true,
        "id": "kf79Ssu2cm5P",
        "colab_type": "code",
        "colab": {}
      },
      "source": [
        "#try different sets of parameters like n_estimators , max_depth, min_samples_leaf etc and choose the best set of parameters."
      ],
      "execution_count": 0,
      "outputs": []
    },
    {
      "cell_type": "markdown",
      "metadata": {
        "id": "bPXRAreZ24ot",
        "colab_type": "text"
      },
      "source": [
        "## Conclusion\n",
        "Write down your interpretations about your model and insights here."
      ]
    },
    {
      "cell_type": "code",
      "metadata": {
        "id": "uSD_7mglP7WJ",
        "colab_type": "code",
        "colab": {}
      },
      "source": [
        ""
      ],
      "execution_count": 0,
      "outputs": []
    }
  ]
}