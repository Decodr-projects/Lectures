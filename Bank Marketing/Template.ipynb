{
 "cells": [
  {
   "cell_type": "markdown",
   "metadata": {},
   "source": [
    "## Import Libraries"
   ]
  },
  {
   "cell_type": "code",
   "execution_count": null,
   "metadata": {
    "_cell_guid": "b1076dfc-b9ad-4769-8c92-a6c4dae69d19",
    "_uuid": "8f2839f25d086af736a60e9eeb907d3b93b6e0e5"
   },
   "outputs": [],
   "source": [
    "#import linear algebra and data manipulation libraries\n",
    "\n",
    "\n",
    "#import standard visualization libraries\n",
    "\n",
    "\n",
    "#import machine learning model libraries\n",
    "\n",
    "\n",
    "\n",
    "\n",
    "#library to split dataset\n",
    "\n",
    "#library for metrics\n",
    "\n",
    "#tools for hyperparameters search\n",
    "\n"
   ]
  },
  {
   "cell_type": "markdown",
   "metadata": {
    "_uuid": "d057ad9813d19401880ce8b371182932116a1f7c"
   },
   "source": [
    "## Import Data"
   ]
  },
  {
   "cell_type": "markdown",
   "metadata": {
    "_uuid": "5a4dadfb35b585a67718e07b59e9da0eebe61763"
   },
   "source": [
    "First of all to perform the analysis, we have to import the data:"
   ]
  },
  {
   "cell_type": "code",
   "execution_count": null,
   "metadata": {
    "_uuid": "a9e0b0369f8fae1a5698b145fa7617324442ddc9"
   },
   "outputs": [],
   "source": [
    "#import dataset\n",
    "\n"
   ]
  },
  {
   "cell_type": "code",
   "execution_count": null,
   "metadata": {
    "_uuid": "266f8b3610c11aa8e0daad0e60f8f6ae47a5835f"
   },
   "outputs": [],
   "source": [
    "#display first 5 rows of dataset \n",
    "\n"
   ]
  },
  {
   "cell_type": "markdown",
   "metadata": {
    "_uuid": "bf287fe95fb1b66e9356968471927ebadb5709a3"
   },
   "source": [
    "## Data Exploration"
   ]
  },
  {
   "cell_type": "markdown",
   "metadata": {
    "_uuid": "5b3c742e8301172bed5e08f19aebf847733b1804"
   },
   "source": [
    "After we imported the dataset, we have to look at the total number of rows in the dataset and analyze the number of missing values."
   ]
  },
  {
   "cell_type": "code",
   "execution_count": null,
   "metadata": {
    "_uuid": "d2743db4357220306a9eac9702dd66689a58c761"
   },
   "outputs": [],
   "source": [
    "# number of rows in dataset\n",
    "\n"
   ]
  },
  {
   "cell_type": "code",
   "execution_count": null,
   "metadata": {
    "_uuid": "09d1ee4ba165f08cd0bc71504ac494afc28c9a46"
   },
   "outputs": [],
   "source": [
    "#find percentage of missing values for each column\n",
    "\n"
   ]
  },
  {
   "cell_type": "markdown",
   "metadata": {
    "_uuid": "9953cbc2a8e6fce30f123a482ec4cfb60ee5440b"
   },
   "source": [
   ]
  },
  {
   "cell_type": "markdown",
   "metadata": {
    "_uuid": "9439da6f9f0c817e948da870b401d6501a7e61e8"
   },
   "source": [
    "### Categorical columns exploration"
   ]
  },
  {
   "cell_type": "markdown",
   "metadata": {
    "_uuid": "70089e821d45ea593c562a833ee6989202be0583"
   },
   "source": [
    "In the dataset we have both categorical and numerical columns. Let's look at the values of categorical columns first."
   ]
  },
  {
   "cell_type": "code",
   "execution_count": null,
   "metadata": {
    "_uuid": "1938266853e56fbb269f1d8a45c12786e3be18d9"
   },
   "outputs": [],
   "source": [
    "cat_columns =                                                              #List of categorical columns\n",
    "\n",
    "fig, axs = plt.subplots(3, 3, sharex=False, sharey=False, figsize=(20, 15))\n",
    "\n",
    "counter = 0\n",
    "for cat_column in cat_columns:\n",
    "    value_counts = df[cat_column].value_counts()\n",
    "    \n",
    "    trace_x = counter // 3\n",
    "    trace_y = counter % 3\n",
    "    x_pos = np.arange(0, len(value_counts))\n",
    "    \n",
    "    axs[trace_x, trace_y].bar(x_pos, value_counts.values, tick_label = value_counts.index)\n",
    "    \n",
    "    axs[trace_x, trace_y].set_title(cat_column)\n",
    "    \n",
    "    for tick in axs[trace_x, trace_y].get_xticklabels():\n",
    "        tick.set_rotation(90)\n",
    "    \n",
    "    counter += 1\n",
    "\n",
    "plt.show()"
   ]
  },
  {
   "cell_type": "markdown",
   "metadata": {
    "_uuid": "52e08f6727a73fc7ad9c4959ea16de52df98f6b4"
   },
   "source": [
    "### Numerical columns exploration"
   ]
  },
  {
   "cell_type": "markdown",
   "metadata": {
    "_uuid": "074b44ddc19e530e9a09e0bc4a252c18d906f539"
   },
   "source": [
    "Now let's look at the numerical columns' values. The most convenient way to look at the numerical values is plotting histograms."
   ]
  },
  {
   "cell_type": "code",
   "execution_count": null,
   "metadata": {
    "_uuid": "4996808611a63346302571b98d824d05d863490e"
   },
   "outputs": [],
   "source": [
    "num_columns =                                                                   #List of Numerical Columns\n",
    "\n",
    "fig, axs = plt.subplots(2, 3, sharex=False, sharey=False, figsize=(20, 15))\n",
    "\n",
    "counter = 0\n",
    "for num_column in num_columns:\n",
    "    \n",
    "    trace_x = counter // 3\n",
    "    trace_y = counter % 3\n",
    "    \n",
    "    axs[trace_x, trace_y].hist(df[num_column])\n",
    "    \n",
    "    axs[trace_x, trace_y].set_title(num_column)\n",
    "    \n",
    "    counter += 1\n",
    "\n",
    "plt.show()"
   ]
  },
  {
   "cell_type": "code",
   "execution_count": null,
   "metadata": {
    "_uuid": "8b9d668fc8f287bc0fd8745326f743cc97bf18bd"
   },
   "outputs": [],
   "source": []
  },
  {
   "cell_type": "code",
   "execution_count": null,
   "metadata": {
    "_uuid": "bf3a266798fa38e8542790767f3b3de7ace40aa1"
   },
   "outputs": [],
   "source": [
    "# Explore variables 'pdays','campaign' & 'previous' in greater detail using describe function\n"
   ]
  },
  {
   "cell_type": "code",
   "execution_count": null,
   "metadata": {
    "_uuid": "8db77b60bff2efa4960db6ff510e01642456cc4c"
   },
   "outputs": [],
   "source": [
    "#Variable Analysis\n",
    "\n",
    "len (df[df['pdays'] > 400] ) / len(df) * 100"
   ]
  },
  {
   "cell_type": "markdown",
   "metadata": {
    "_uuid": "a03f4e173db68ae35442d34c10905313d9e1c6a1"
   },
   "source": [
    "'pdays' holds the number of days that passed by after the client was last contacted from a previous campaign\n",
    "Looking closer into 'pdays' data we can see that:\n",
    "* only 1.2% of values above 400. They are possibly outliers, so we should consider imputing something (possibly mean value) instead of these values.\n",
    "* -1 possibly means that the client wasn't contacted before or stands for missing data.\n",
    "\n",
    "Since we are not sure exactly what -1 means I suggest to drop this column, because -1 makes more than 50% of the values of the column."
   ]
  },
  {
   "cell_type": "markdown",
   "metadata": {
    "_uuid": "3efa8cdcbe424cd936e1e764a0333ba4e2b08744"
   },
   "source": [
    "Percentage of 'campaign' values above 20:"
   ]
  },
  {
   "cell_type": "code",
   "execution_count": null,
   "metadata": {
    "_uuid": "f3aabd2eed6cd14b5bb4d9de47519faf28f6557a"
   },
   "outputs": [],
   "source": [
    "#Apply similar analysis to variable 'campaign'"
   ]
  },
  {
   "cell_type": "code",
   "execution_count": null,
   "metadata": {
    "_uuid": "5d39f875c94eef6961b49826cec929d21c595f50"
   },
   "outputs": [],
   "source": [
    "#Apply similar analysis to variable 'previous'"
   ]
  },
  {
   "cell_type": "markdown",
   "metadata": {
    "_uuid": "23413f846914b7bc38a785f1ac4c6c5542d81712"
   },
   "source": [
    "### Analysis of the response column"
   ]
  },
  {
   "cell_type": "markdown",
   "metadata": {
    "_uuid": "aed4354ab2aa412a629185d495efd4d6fefb18ca"
   },
   "source": [
    "It is very important to look at the response column, which holds the information, which we are going to predict. In our case we should look at 'deposit' column and compare its values to other columns. \n",
    "<br> First of all we should look at the number of 'yes' and 'no' values in the response column 'deposit'."
   ]
  },
  {
   "cell_type": "code",
   "execution_count": null,
   "metadata": {
    "_uuid": "63142d576f819e0250ed39d06a9e2c4c8eb67fa0"
   },
   "outputs": [],
   "source": [
    "#Calculate value_counts for variable 'deposit'\n",
    "\n",
    "value_counts = \n",
    "\n",
    "# Plot value_counts \n"
   ]
  },
  {
   "cell_type": "markdown",
   "metadata": {
    "_uuid": "bf10cca9bb8132ba04f9443a8e89f436284d33d0"
   },
   "source": [
    "Let's see how 'deposit' column value varies depending on other categorical columns' values:"
   ]
  },
  {
   "cell_type": "code",
   "execution_count": null,
   "metadata": {
    "_uuid": "fd37526354b859d2ff3a82e733866950842b9a39"
   },
   "outputs": [],
   "source": [
    "#job and deposit\n",
    "j_df = pd.DataFrame()\n",
    "\n",
    "j_df['yes'] = df[df['deposit'] == 'yes']['job'].value_counts()\n",
    "j_df['no'] = df[df['deposit'] == 'no']['job'].value_counts()\n",
    "\n",
    "j_df.plot.bar(title = 'Job and deposit')"
   ]
  },
  {
   "cell_type": "code",
   "execution_count": null,
   "metadata": {
    "_uuid": "fcbfe84749f96ab892485f74df1d3a1420c1fea9"
   },
   "outputs": [],
   "source": [
    "#marital status and deposit\n"
   ]
  },
  {
   "cell_type": "code",
   "execution_count": null,
   "metadata": {
    "_uuid": "41865164c1c1cebe2eba5dcdfd774d028ef80606"
   },
   "outputs": [],
   "source": [
    "#education and deposit\n"
   ]
  },
  {
   "cell_type": "code",
   "execution_count": null,
   "metadata": {
    "_uuid": "1418d58637ea1ea831d2b17fd2de74679a92d0cc"
   },
   "outputs": [],
   "source": [
    "#type of contact and deposit\n"
   ]
  },
  {
   "cell_type": "markdown",
   "metadata": {
    "_uuid": "351b2a7d2ff6af767b61c0cb478fac05010b23ce"
   },
   "source": [
    "Now let's look how numerical columns affect term deposit subscription."
   ]
  },
  {
   "cell_type": "code",
   "execution_count": null,
   "metadata": {
    "_uuid": "85f440e31a4735c92235c12b07dae34a61719076"
   },
   "outputs": [],
   "source": [
    "#balance and deposit\n",
    "\n",
    "b_df = pd.DataFrame()\n",
    "b_df['balance_yes'] = (df[df['deposit'] == 'yes'][['deposit','balance']].describe())['balance']\n",
    "b_df['balance_no'] = (df[df['deposit'] == 'no'][['deposit','balance']].describe())['balance']\n",
    "\n",
    "b_df"
   ]
  },
  {
   "cell_type": "code",
   "execution_count": null,
   "metadata": {
    "_uuid": "4fdfb640e72e4b6f6cbff055b2d3d35e2053fa3b"
   },
   "outputs": [],
   "source": [
    "#plot\n",
    "b_df.drop(['count', '25%', '50%', '75%']).plot.bar(title = 'Balance and deposit statistics')"
   ]
  },
  {
   "cell_type": "code",
   "execution_count": null,
   "metadata": {
    "_uuid": "054bf8c7aca1045516d9085f3c3764af142f4741"
   },
   "outputs": [],
   "source": [
    "#age and deposit\n",
    "\n"
   ]
  },
  {
   "cell_type": "code",
   "execution_count": null,
   "metadata": {
    "_uuid": "5debbbf91c62df70f679046abb1a6ad2e362a21a"
   },
   "outputs": [],
   "source": [
    "#plot\n"
   ]
  },
  {
   "cell_type": "code",
   "execution_count": null,
   "metadata": {
    "_uuid": "df7570d6ef520da585b0294cb4056f4f53aa8675"
   },
   "outputs": [],
   "source": [
    "#number of contacts performed during this campaign ('campaign') and deposit\n"
   ]
  },
  {
   "cell_type": "code",
   "execution_count": null,
   "metadata": {
    "_uuid": "b78ced3e2abae5fa673a9d5c2f94f234cbe3e8af"
   },
   "outputs": [],
   "source": [
    "#plot"
   ]
  },
  {
   "cell_type": "code",
   "execution_count": null,
   "metadata": {
    "_uuid": "8319de98e398300a9464664dc204e060b03fbb71"
   },
   "outputs": [],
   "source": [
    "#number of contacts performed during previous campaign ('previous') and deposit\n"
   ]
  },
  {
   "cell_type": "code",
   "execution_count": null,
   "metadata": {
    "_uuid": "b3575d7c7ab57d09be0b299648d2c6458858828d"
   },
   "outputs": [],
   "source": [
    "#plot"
   ]
  },
  {
   "cell_type": "markdown",
   "metadata": {
    "_uuid": "657dfa956c6703fb3c1b404ffbb01884a33994af"
   },
   "source": [
    "## Data Cleaning"
   ]
  },
  {
   "cell_type": "markdown",
   "metadata": {
    "_uuid": "da23d974653a9c7dfbd887ab2dc20e7e97eb01d0"
   },
   "source": [
    "Before we will be able to apply machine learning techniques, we should prepare the dataset for processing:\n",
    "1. Convert columns with 'yes' and 'no' values to boolean columns;\n",
    "2. Convert categorical columns into dummy variables."
   ]
  },
  {
   "cell_type": "code",
   "execution_count": null,
   "metadata": {
    "_uuid": "c36ceee61029e8698e08b76fe2204b7e9c0284f5"
   },
   "outputs": [],
   "source": [
    "def get_dummy_from_bool(row, column_name):\n",
    "    ''' Returns 0 if value in column_name is no, returns 1 if value in column_name is yes'''\n",
    "    #Type Code Here\n",
    "\n",
    "def get_correct_values(row, column_name, threshold, df):\n",
    "    ''' Returns mean value if value in column_name is above threshold'''\n",
    "    #Type Code Here\n",
    "\n",
    "def clean_data(df):\n",
    "    '''\n",
    "    INPUT\n",
    "    df - pandas dataframe containing bank marketing campaign dataset\n",
    "    \n",
    "    OUTPUT\n",
    "    df - cleaned dataset:\n",
    "    1. columns with 'yes' and 'no' values are converted into boolean variables;\n",
    "    2. categorical columns are converted into dummy variables;\n",
    "    3. drop irrelevant columns.\n",
    "    4. impute incorrect values\n",
    "    '''\n",
    "    \n",
    "    cleaned_df = df.copy()\n",
    "    \n",
    "    #convert columns containing 'yes' and 'no' values to boolean variables and drop original columns\n",
    "    #Type Code Here \n",
    "    \n",
    "    #convert categorical columns to dummies\n",
    "    cat_columns = ['job', 'marital', 'education', 'contact', 'month', 'poutcome']\n",
    "    \n",
    "    #Type Code Here\n",
    "    \n",
    "    #drop irrelevant columns\n",
    "    cleaned_df = cleaned_df.drop(columns = ['pdays'])\n",
    "    \n",
    "    #impute incorrect values and drop original columns\n",
    "    cleaned_df['campaign_cleaned'] = df.apply(lambda row: get_correct_values(row, 'campaign', 34, cleaned_df),axis=1)\n",
    "    cleaned_df['previous_cleaned'] = df.apply(lambda row: get_correct_values(row, 'previous', 34, cleaned_df),axis=1)\n",
    "    \n",
    "    cleaned_df = cleaned_df.drop(columns = ['campaign', 'previous'])\n",
    "    \n",
    "    return cleaned_df"
   ]
  },
  {
   "cell_type": "code",
   "execution_count": null,
   "metadata": {
    "_uuid": "c84260944095766b196e084185bb07c451162524"
   },
   "outputs": [],
   "source": [
    "#clean the dataset\n",
    "cleaned_df = clean_data(df)\n",
    "cleaned_df.head()"
   ]
  },
  {
   "cell_type": "markdown",
   "metadata": {
    "_uuid": "0a4fc6fd14ff5a65e5eefe9a5bea4b11197ab6fd"
   },
   "source": [
    "## Machine Learning for prediction of campaign outcome"
   ]
  },
  {
   "cell_type": "markdown",
   "metadata": {
    "_uuid": "8a617cd9aa39122d61abd8df841090ea3ca16879"
   },
   "source": [
    "### Classification model for the campaign outcome prediction"
   ]
  },
  {
   "cell_type": "markdown",
   "metadata": {
    "_uuid": "66170b27e3a272832669d83613ea334f2c5569d5"
   },
   "source": [
    "Use cleaned datasets for prediction of campaign outcome with help of machine learning classification models. Implement [XGBoost](https://xgboost.readthedocs.io/en/latest/)__, which is one of the most common machine learning libraries for modelling.\n",
    "Also, find feature importances."
   ]
  },
  {
   "cell_type": "markdown",
   "metadata": {
    "_uuid": "ab39af0090df8afdf4ec9128a2088fcef8d4d104"
   },
   "source": [
    "Create X and y datasets for training the model and split into train and test datasets."
   ]
  },
  {
   "cell_type": "code",
   "execution_count": null,
   "metadata": {
    "_uuid": "e94b914d643f707996906176ba0b7d71f1e00c8e"
   },
   "outputs": [],
   "source": [
    "#Split data into X and y \n"
   ]
  },
  {
   "cell_type": "code",
   "execution_count": null,
   "metadata": {
    "_uuid": "69fa180ae0a9fa806c9584737d810ac126d39770"
   },
   "outputs": [],
   "source": [
    "TEST_SIZE = 0.3\n",
    "RAND_STATE = 42"
   ]
  },
  {
   "cell_type": "code",
   "execution_count": null,
   "metadata": {
    "_uuid": "881629ad927241dcf1251f5195a1a7ebdadbc8bc"
   },
   "outputs": [],
   "source": [
    "#Split data into train and test \n",
    "X_train, X_test, y_train, y_test = "
   ]
  },
  {
   "cell_type": "markdown",
   "metadata": {
    "_uuid": "a00d78f6c1961030acc90a5ebff364f29935f802"
   },
   "source": [
    "Train XGBoost classifier model:"
   ]
  },
  {
   "cell_type": "code",
   "execution_count": null,
   "metadata": {
    "_uuid": "15b081cfefb3b7467b8ea29100464b0698f992b9"
   },
   "outputs": [],
   "source": [
    "#train XGBoost model\n",
    "xgb = #import XGBoost Classifier \n",
    "\n",
    "\n",
    "#fit model to X_train.y_train\n",
    "\\\n",
    "\n",
    "#calculate and print scores for the model for top 15 features\n",
    "y_train_preds = \n",
    "y_test_preds = \n",
    "\n",
    "print('XGB accuracy score for train: %.3f: test: %.3f' % (\n",
    "        accuracy_score(y_train, y_train_preds),\n",
    "        accuracy_score(y_test, y_test_preds)))"
   ]
  },
  {
   "cell_type": "code",
   "execution_count": null,
   "metadata": {},
   "outputs": [],
   "source": []
  },
  {
   "cell_type": "markdown",
   "metadata": {
    "_uuid": "d0217001957ee35d2fed3934a8b2321ef0ab8ce1"
   },
   "source": [
    "Get the feature importances from the trained model:"
   ]
  },
  {
   "cell_type": "code",
   "execution_count": null,
   "metadata": {
    "_uuid": "0e46dd25abb3905d1509d3b8082eaedab530eb30"
   },
   "outputs": [],
   "source": [
    "#get feature importances from the model\n",
    "headers = [\"name\", \"score\"]\n",
    "values = sorted(zip(X_train.columns, xgb.feature_importances_), key=lambda x: x[1] * -1)\n",
    "xgb_feature_importances = pd.DataFrame(values, columns = headers)\n",
    "\n",
    "#plot feature importances\n"
   ]
  },
  {
   "cell_type": "markdown",
   "metadata": {
    "_uuid": "f17526893504507b59db6fbe7c4b00d9c3d098ec"
   },
   "source": [
    "1. Find out account balance, which marketing campaign should focus on: "
   ]
  },
  {
   "cell_type": "code",
   "execution_count": null,
   "metadata": {
    "_uuid": "a821eb0bb1a05b76900eadd3812845b7b05e90da"
   },
   "outputs": [],
   "source": [
    "df_new = cleaned_df.copy()\n",
    "\n",
    "#introduce new column 'balance_buckets' to  ''\n",
    "df_new['balance_buckets'] = pd.qcut(df_new['balance'], 50, labels=False, duplicates = 'drop')\n",
    "\n",
    "#group by 'balance_buckets' and find average campaign outcome per balance bucket\n",
    "\n",
    "\n",
    "#plot\n"
   ]
  },
  {
   "cell_type": "code",
   "execution_count": null,
   "metadata": {
    "_uuid": "ddb04e4ecc2274acd1eb18212b8553f28a5b2da2"
   },
   "outputs": [],
   "source": [
    "df_new[df_new['balance_buckets'] == 34]['balance'].min()"
   ]
  },
  {
   "cell_type": "code",
   "execution_count": null,
   "metadata": {
    "_uuid": "19db5fdf8c2a2b3e10901fa0a27af553c26faa9a"
   },
   "outputs": [],
   "source": [
    "#introduce new column 'age_buckets' to  ''\n",
    "df_new['age_buckets'] = pd.qcut(df_new['age'], 20, labels=False, duplicates = 'drop')\n",
    "\n",
    "#group by 'balance_buckets' and find average campaign outcome per balance bucket\n",
    "\n",
    "#plot\n"
   ]
  },
  {
   "cell_type": "code",
   "execution_count": null,
   "metadata": {
    "_uuid": "6ff0abf7e9b4a31c1af432255260b8ec80514037"
   },
   "outputs": [],
   "source": [
    "df_new[df_new['age_buckets'] == 3]['age'].max()"
   ]
  },
  {
   "cell_type": "code",
   "execution_count": null,
   "metadata": {
    "_uuid": "f9c7be636c4abf8aed0e9712ec62094adcad9aaf"
   },
   "outputs": [],
   "source": [
    "df_new[df_new['age_buckets'] == 17]['age'].min()"
   ]
  },
  {
   "cell_type": "markdown",
   "metadata": {
    "_uuid": "23f0b89091b3b5043e930bc944b779ed77f5e1a6"
   },
   "source": [
    "2. Find out appropriate number of contacts with the customer during campaign:"
   ]
  },
  {
   "cell_type": "code",
   "execution_count": null,
   "metadata": {
    "_uuid": "c610f063d3c07b02616264a21a710b69030d138c"
   },
   "outputs": [],
   "source": [
    "#introduce new column 'age_buckets' to  ''\n",
    "df_new['campaign_buckets'] = pd.qcut(df_new['campaign_cleaned'], 20, labels=False, duplicates = 'drop')\n",
    "\n",
    "#group by 'balance_buckets' and find average campaign outcome per balance bucket\n",
    "\n",
    "#plot average campaign outcome per bucket \n"
   ]
  },
  {
   "cell_type": "code",
   "execution_count": null,
   "metadata": {
    "_uuid": "df99bc3313d0731bc7d8618ad7af9de66f863e78"
   },
   "outputs": [],
   "source": [
    "df_new[df_new['campaign_buckets'] == 2]['campaign_cleaned'].min()"
   ]
  }
 ],
 "metadata": {
  "kernelspec": {
   "display_name": "Python 3",
   "language": "python",
   "name": "python3"
  },
  "language_info": {
   "codemirror_mode": {
    "name": "ipython",
    "version": 3
   },
   "file_extension": ".py",
   "mimetype": "text/x-python",
   "name": "python",
   "nbconvert_exporter": "python",
   "pygments_lexer": "ipython3",
   "version": "3.7.4"
  }
 },
 "nbformat": 4,
 "nbformat_minor": 4
}
