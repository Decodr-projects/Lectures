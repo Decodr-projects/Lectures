{
 "cells": [
  {
   "cell_type": "markdown",
   "metadata": {},
   "source": [
    "In this project, you'll build your first Online Shopper Intention Model using Random Forest Classifier and use it to predict whether a customer will purchase something or not. We've provided some of the code, but left the implementation of the model building up to you (for the most part). After you've submitted this project, feel free to explore the data and the model more."
   ]
  },
  {
   "cell_type": "markdown",
   "metadata": {},
   "source": [
    "\n",
    "\n",
    "\n",
    "<img src=\"https://images.pexels.com/photos/920382/pexels-photo-920382.jpeg?auto=compress&cs=tinysrgb&dpr=1&w=500.jpg\" width=\"1000px\">\n",
    "\n"
   ]
  },
  {
   "cell_type": "markdown",
   "metadata": {},
   "source": [
    "## Importing Some Basic Libraries\n",
    "\n",
    "In the code below are given some libraries which we are going to use throughout this notebook."
   ]
  },
  {
   "cell_type": "code",
   "execution_count": null,
   "metadata": {
    "id": "5HVCKYVdKjKS"
   },
   "outputs": [],
   "source": [
    "# for basic operations\n",
    "import numpy as np\n",
    "import pandas as pd\n",
    "\n",
    "# for getting the file path\n",
    "import os\n",
    "\n",
    "# for data visualizations\n",
    "%matplotlib inline\n",
    "import matplotlib.pyplot as plt\n",
    "import seaborn as sns\n",
    "import plotly as py\n",
    "import plotly.graph_objs as go\n",
    "\n",
    "# for data analysis\n",
    "import dabl\n",
    "\n",
    "# for model analysis\n",
    "import shap"
   ]
  },
  {
   "cell_type": "markdown",
   "metadata": {},
   "source": [
    "## Reading the Datasst\n",
    "\n",
    "A critical step in working with machine learning models is preparing the data correctly. Variables on different scales make it difficult for the network to efficiently learn the correct weights. Below, we've written the code to load and prepare the data. You'll learn more about this soon!"
   ]
  },
  {
   "cell_type": "code",
   "execution_count": null,
   "metadata": {
    "id": "UQjE37flKuMj",
    "outputId": "fda7bdb4-02ce-49d9-f641-f00db575138c"
   },
   "outputs": [],
   "source": [
    "# mention the datapath\n",
    "\n",
    "data_path=''\n",
    "data = pd.read_csv('data_path')\n"
   ]
  },
  {
   "cell_type": "markdown",
   "metadata": {},
   "source": [
    "**Some Analysis to Understand the Data**"
   ]
  },
  {
   "cell_type": "code",
   "execution_count": null,
   "metadata": {
    "id": "fi4l2rNTLAvG",
    "outputId": "81dad83d-e739-4f63-de8f-08e114e10476",
    "scrolled": true
   },
   "outputs": [],
   "source": [
    "# checking the head of the data\n",
    "\n",
    "data.head()"
   ]
  },
  {
   "cell_type": "markdown",
   "metadata": {},
   "source": [
    "**Attribute Information:**\n",
    "\n",
    "*  The dataset consists of 10 numerical and 8 categorical attributes. \n",
    "* The 'Revenue' attribute can be used as the class label. \n",
    "* \"Administrative\", \"Administrative Duration\", \"Informational\", \"Informational Duration\", \"Product Related\" and \"Product Related Duration\" represent the number of different types of pages visited by the visitor in that session and total time spent in each of these page categories. The values of these features are derived from the URL information of the pages visited by the user and updated in real time when a user takes an action, e.g. moving from one page to another.\n",
    "* The \"Bounce Rate\", \"Exit Rate\" and \"Page Value\" features represent the metrics measured by \"Google Analytics\" for each page in the e-commerce site. The value of \"Bounce Rate\" feature for a web page refers to the percentage of visitors who enter the site from that page and then leave (\"bounce\") without triggering any other requests to the analytics server during that session. The value of \"Exit Rate\" feature for a specific web page is calculated as for all pageviews to the page, the percentage that were the last in the session. \n",
    "* The \"Page Value\" feature represents the average value for a web page that a user visited before completing an e-commerce transaction.\n",
    "* The \"Special Day\" feature indicates the closeness of the site visiting time to a specific special day (e.g. Mother’s Day, Valentine's Day) in which the sessions are more likely to be finalized with transaction. The value of this attribute is determined by considering the dynamics of e-commerce such as the duration between the order date and delivery date. For example, for Valentina’s day, this value takes a nonzero value between February 2 and February 12, zero before and after this date unless it is close to another special day, and its maximum value of 1 on February 8. \n",
    "* The dataset also includes operating system, browser, region, traffic type, visitor type as returning or new visitor, a Boolean value indicating whether the date of the visit is weekend, and month of the year.\n",
    "\n"
   ]
  },
  {
   "cell_type": "code",
   "execution_count": null,
   "metadata": {
    "id": "Tj-DJDcDLE0q",
    "outputId": "35b32a4d-6a1b-4557-868b-4b6d07384e28"
   },
   "outputs": [],
   "source": [
    "# describing the data\n",
    "\n",
    "data.describe()"
   ]
  },
  {
   "cell_type": "code",
   "execution_count": null,
   "metadata": {
    "id": "5BfZnK3jLQEu",
    "outputId": "f775c140-4b70-4159-b041-db869c8ec72f"
   },
   "outputs": [],
   "source": [
    "# checking the percentage of missing data contains in all the columns\n",
    "\n",
    "missing_percentage = data.isnull().sum()/data.shape[0]\n",
    "print(missing_percentage)"
   ]
  },
  {
   "cell_type": "markdown",
   "metadata": {},
   "source": [
    "## EDA Analysis\n",
    "\n",
    "* Exploratory Data Analysis refers to the critical process of performing initial investigations on data so as to discover patterns,to spot anomalies,to test hypothesis and to check assumptions with the help of summary statistics and graphical representations.\n",
    "\n",
    "* It is a good practice to understand the data first and try to gather as many insights from it. EDA is all about making sense of data in hand,before getting them dirty with it.\n",
    "\n",
    "* There are 3 types of EDA Analysis, we will do them all step by step."
   ]
  },
  {
   "cell_type": "markdown",
   "metadata": {},
   "source": [
    "**Using dabl library to do some anaslyis of data with respect to Target Column**\n",
    "\n",
    "* dabl provides a high-level interface that summarizes several common high-level plots. For low dimensional datasets, all features are shown; for high dimensional datasets, only the most informative features for the given task are shown. This is clearly not guaranteed to surface all interesting aspects with the data, or to find all data quality issues. However, it will give you a quick insight in to what are the important features, their interactions, and how hard the problem might be. It also allows a good assessment of whether there is any data leakage through spurious representations of the target in the data."
   ]
  },
  {
   "cell_type": "code",
   "execution_count": null,
   "metadata": {},
   "outputs": [],
   "source": [
    "# lets analyze the data wrt Target Column\n",
    "\n",
    "import warnings\n",
    "warnings.filterwarnings('ignore')\n",
    "plt.rcParams['figure.figsize'] = (15, 10)\n",
    "plt.style.use('fivethirtyeight')\n",
    "dabl.plot(data, target_col = 'Revenue')"
   ]
  },
  {
   "cell_type": "markdown",
   "metadata": {},
   "source": [
    "**1. Uni-Variate Analysis of the Data**\n",
    "\n",
    "* “Uni” means one and “Variate” means variable hence univariate analysis means analysis of one variable or one feature. Univariate basically tells us how data in each feature is distributed and also tells us about central tendencies like mean, median, and mode."
   ]
  },
  {
   "cell_type": "code",
   "execution_count": null,
   "metadata": {
    "_kg_hide-input": true,
    "id": "57T_nocr6azz",
    "outputId": "6633a2ce-f978-4388-d238-d7909a5ec82e"
   },
   "outputs": [],
   "source": [
    "# checking the Distribution of customers on Revenue\n",
    "\n",
    "plt.rcParams['figure.figsize'] = (18, 7)\n",
    "\n",
    "plt.subplot(1, 2, 1)\n",
    "sns.countplot(data['Weekend'], palette = 'pastel')\n",
    "plt.title('Buy or Not', fontsize = 30)\n",
    "plt.xlabel('Revenue or not', fontsize = 15)\n",
    "plt.ylabel('count', fontsize = 15)\n",
    "\n",
    "\n",
    "# checking the Distribution of customers on Weekend\n",
    "# complete the code below \n",
    "# you need to apply similar strategy as above given code\n",
    "\n",
    "## start code\n",
    "\n",
    "\n",
    "\n",
    "\n",
    "\n",
    "\n",
    "\n",
    "\n",
    "## end code\n",
    "\n",
    "plt.show()"
   ]
  },
  {
   "cell_type": "code",
   "execution_count": null,
   "metadata": {
    "id": "6VbQVyPT45vA",
    "outputId": "2f2b453d-b4df-4765-8df4-13ad8c8df7ad"
   },
   "outputs": [],
   "source": [
    "data['VisitorType'].value_counts()\n",
    "\n",
    "data['Browser'].value_counts()"
   ]
  },
  {
   "cell_type": "code",
   "execution_count": null,
   "metadata": {
    "_kg_hide-input": true,
    "id": "f7tea9iE4_eU",
    "outputId": "62718723-18db-4327-823c-102f046092d3"
   },
   "outputs": [],
   "source": [
    "# plotting a pie chart for visitors\n",
    "\n",
    "plt.rcParams['figure.figsize'] = (18, 7)\n",
    "\n",
    "size = [10551, 1694, 85]\n",
    "colors = ['violet', 'magenta', 'pink']\n",
    "labels = \"Returning Visitor\", \"New_Visitor\", \"Others\"\n",
    "explode = [0, 0, 0.1]\n",
    "plt.subplot(1, 2, 1)\n",
    "plt.pie(size, colors = colors, labels = labels, explode = explode, shadow = True, autopct = '%.2f%%')\n",
    "plt.title('Different Visitors', fontsize = 30)\n",
    "plt.axis('off')\n",
    "plt.legend()\n",
    "\n",
    "# plotting a pie chart for browsers\n",
    "# complete the code below \n",
    "# you need to apply similar strategy as above given code\n",
    "\n",
    "## start code\n",
    "\n",
    "\n",
    "\n",
    "\n",
    "\n",
    "\n",
    "## end code\n",
    "\n",
    "plt.show()"
   ]
  },
  {
   "cell_type": "code",
   "execution_count": null,
   "metadata": {
    "_kg_hide-input": true,
    "id": "J2uUNAaz4j0b",
    "outputId": "878f0065-e674-461d-c351-e2b080c98dff"
   },
   "outputs": [],
   "source": [
    "# visualizing the distribution of Traffic using histgrams\n",
    "\n",
    "plt.rcParams['figure.figsize'] = (18, 7)\n",
    "\n",
    "plt.subplot(1, 2, 1)\n",
    "plt.hist(data['TrafficType'], color = 'lightgreen')\n",
    "plt.title('Distribution of diff Traffic',fontsize = 30)\n",
    "plt.xlabel('TrafficType Codes', fontsize = 15)\n",
    "plt.ylabel('Count', fontsize = 15)\n",
    "\n",
    "# visualizing the distribution of customers around the Region using histogram\n",
    "# complete the code below \n",
    "# you need to apply similar strategy as above given code\n",
    "## start code\n",
    "\n",
    "\n",
    "\n",
    "\n",
    "\n",
    "\n",
    "## end code\n",
    "\n",
    "plt.show()"
   ]
  },
  {
   "cell_type": "code",
   "execution_count": null,
   "metadata": {
    "_kg_hide-output": true,
    "id": "l5MOBzswUYR7",
    "outputId": "e6ea249e-9852-42e6-8d51-320b0165dd15"
   },
   "outputs": [],
   "source": [
    "# checking the no. of OSes each user is having\n",
    "\n",
    "data['OperatingSystems'].value_counts()"
   ]
  },
  {
   "cell_type": "code",
   "execution_count": null,
   "metadata": {
    "_kg_hide-output": true
   },
   "outputs": [],
   "source": [
    "#checking the months with most no.of customers visiting the online shopping sites\n",
    "\n",
    "data['Month'].value_counts()"
   ]
  },
  {
   "cell_type": "code",
   "execution_count": null,
   "metadata": {
    "_kg_hide-input": true,
    "id": "GUWUwSCGV2jV",
    "outputId": "98aa3213-2784-4454-f384-04898a6d1943"
   },
   "outputs": [],
   "source": [
    "# creating a donut chart for the months variations'\n",
    "\n",
    "# plotting a pie chart for different number of OSes users have.\n",
    "\n",
    "size = [6601, 2585, 2555, 478, 111]\n",
    "colors = ['orange', 'yellow', 'pink', 'crimson', 'lightgreen']\n",
    "labels = \"2\", \"1\",\"3\",\"4\",\"others\"\n",
    "explode = [0, 0, 0, 0, 0]\n",
    "\n",
    "circle = plt.Circle((0, 0), 0.6, color = 'white')\n",
    "\n",
    "plt.subplot(1, 2, 1)\n",
    "plt.pie(size, colors = colors, labels = labels, explode = explode, shadow = True, autopct = '%.2f%%')\n",
    "plt.title('OSes Users have', fontsize = 30)\n",
    "p = plt.gcf()\n",
    "p.gca().add_artist(circle)\n",
    "plt.axis('off')\n",
    "plt.legend()\n",
    "\n",
    "# plotting a pie chart for share of special days\n",
    "# complete the code below \n",
    "# you need to apply similar strategy as above given code\n",
    "\n",
    "## start code\n",
    "\n",
    "\n",
    "\n",
    "\n",
    "\n",
    "\n",
    "\n",
    "\n",
    "\n",
    "\n",
    "\n",
    "## end code\n",
    "\n",
    "plt.show()"
   ]
  },
  {
   "cell_type": "markdown",
   "metadata": {
    "id": "Dzo8HvXDBb4y"
   },
   "source": [
    "## Bi-Variate Analysis\n",
    "\n",
    "* Bivariate analysis is the simultaneous analysis of two variables (attributes). It explores the concept of relationship between two variables, whether there exists an association and the strength of this association, or whether there are differences between two variables and the significance of these differences. There are three types of bivariate analysis.\t\t\n",
    " \t\t\n",
    ">Numerical & Numerical- It is performed when the variables to be analyzed are both numerical.\n",
    "\n",
    ">Categorical & Categorical- It is performed when the variables to be analyzed are both categorical.\n",
    "\n",
    ">Numerical & Categorical- It is performed when one of the variables to be analyzed is numerical and other is categorical.\n"
   ]
  },
  {
   "cell_type": "markdown",
   "metadata": {},
   "source": [
    "Lets analyze more important features of the dataset first. So you need to make 4 boxenplots using seaborn one for each of given below:-\n",
    ">Informational_Duration vs Revenue\n",
    "\n",
    ">Administative_Duration vs Revenue\n",
    "\n",
    ">ProductRelated_Duration vs Revenue\n",
    "\n",
    ">Exit_Rates vs Revenue\n",
    "\n",
    "* Out of the 4 one is done for you and you need to do the rest\n",
    "\n",
    "**Why Boxen Plots??**\n",
    "\n",
    "*  It is similar to a box plot in plotting a nonparametric representation of a distribution in which all features correspond to actual observations. By plotting more quantiles, it provides more information about the shape of the distribution, particularly in the tails. For a more extensive explanation, you can read the paper that introduced the plot:\n",
    "\n",
    "https://vita.had.co.nz/papers/letter-value-plot.html"
   ]
  },
  {
   "cell_type": "code",
   "execution_count": null,
   "metadata": {
    "_kg_hide-input": true,
    "id": "25KO04vuAjx6",
    "outputId": "dd44db18-3a25-4129-fcd1-75020c576146"
   },
   "outputs": [],
   "source": [
    "\n",
    "plt.rcParams['figure.figsize'] = (18, 15)\n",
    "\n",
    "# boxenplot for informational duration vs revenue\n",
    "\n",
    "plt.subplot(2, 2, 1)\n",
    "sns.boxenplot(data['Revenue'], data['Informational_Duration'], palette = 'rainbow')\n",
    "plt.title('Info. duration vs Revenue', fontsize = 30)\n",
    "plt.xlabel('Info. duration', fontsize = 15)\n",
    "plt.ylabel('Revenue', fontsize = 15)\n",
    "\n",
    "# write your code for making a boxenplot for administrative duration vs revenue\n",
    "##start code\n",
    "\n",
    "\n",
    "\n",
    "\n",
    "\n",
    "##end code\n",
    "\n",
    "\n",
    "\n",
    "# write your code for making a boxenplot for nproduct related duration vs revenue\n",
    "##start code\n",
    "\n",
    "\n",
    "\n",
    "\n",
    "\n",
    "\n",
    "##end code\n",
    "\n",
    "\n",
    "\n",
    "# write your code for making a boxenplot for exit rate vs revenue\n",
    "##start code\n",
    "\n",
    "\n",
    "\n",
    "\n",
    "\n",
    "##end code\n",
    "\n",
    "\n",
    "plt.show()\n"
   ]
  },
  {
   "cell_type": "markdown",
   "metadata": {},
   "source": [
    "Lets analyze 2 more important features of the dataset. So you need to make 2 strip plots using seaborn one for each of given below:-\n",
    "\n",
    ">PageValues vs Revenue\n",
    "\n",
    ">BounceRates vs Revenue\n",
    "\n",
    "* Out of the 2 one is done for you and you need to do the other one.\n",
    "\n",
    "**Why Strip Plots??**\n",
    "* A strip plot can be drawn on its own, but it is also a good complement to a box or violin plot in cases where you want to show all observations along with some representation of the underlying distribution.\n",
    "\n",
    "* Input data can be passed in a variety of formats, including:\n",
    "\n",
    ">Vectors of data represented as lists, numpy arrays, or pandas Series objects passed directly to the x, y, and/or hue parameters.\n",
    "\n",
    ">A “long-form” DataFrame, in which case the x, y, and hue variables will determine how the data are plotted.\n",
    "\n",
    ">A “wide-form” DataFrame, such that each numeric column will be plotted.\n",
    "\n",
    ">An array or list of vectors.\n",
    "\n",
    "* This function always treats one of the variables as categorical and draws data at ordinal positions (0, 1, … n) on the relevant axis, even when the data has a numeric or date type."
   ]
  },
  {
   "cell_type": "code",
   "execution_count": null,
   "metadata": {
    "_kg_hide-input": true,
    "id": "oPl5yDuk-H2w",
    "outputId": "11aac2f9-ba53-40cf-e9eb-4fcdb2dc536a"
   },
   "outputs": [],
   "source": [
    "\n",
    "plt.rcParams['figure.figsize'] = (18, 7)\n",
    "\n",
    "# strip plot for page values vs revenue\n",
    "\n",
    "plt.subplot(1, 2, 1)\n",
    "sns.stripplot(data['Revenue'], data['PageValues'], palette = 'autumn')\n",
    "plt.title('PageValues vs Revenue', fontsize = 30)\n",
    "plt.xlabel('PageValues', fontsize = 15)\n",
    "plt.ylabel('Revenue', fontsize = 15)\n",
    "\n",
    "\n",
    "# write your code for making a boxenplot for bounce rate vs revenue\n",
    "##start code\n",
    "\n",
    "\n",
    "\n",
    "\n",
    "\n",
    "##end code\n",
    "\n",
    "plt.show()"
   ]
  },
  {
   "cell_type": "markdown",
   "metadata": {},
   "source": [
    "* Lets analyze remaining features of the dataset. So you need to make 4 bar plots using seaborn one for each of given below:-\n",
    "\n",
    ">Weekend vs Revenue\n",
    "\n",
    ">Trafic Type vs Revenue\n",
    "\n",
    ">VisitorType vs Revenue\n",
    "\n",
    ">Region vs Revenue\n",
    "\n",
    "* Out of the 4 one is done for you and you need to do the rest.\n",
    "\n",
    "**Bar Plots**\n",
    "\n",
    "* A bar plot represents an estimate of central tendency for a numeric variable with the height of each rectangle and provides some indication of the uncertainty around that estimate using error bars.\n"
   ]
  },
  {
   "cell_type": "code",
   "execution_count": null,
   "metadata": {
    "_kg_hide-input": true,
    "id": "Or-Z344M8Tqu",
    "outputId": "daf8ae2a-1269-4614-c554-7106cf67f08c"
   },
   "outputs": [],
   "source": [
    "# bar plot between weekend vs Revenue\n",
    "\n",
    "df = pd.crosstab(data['Weekend'], data['Revenue'])\n",
    "df.div(df.sum(1).astype(float), axis = 0).plot(kind = 'bar', stacked = True, figsize = (15, 5), color = ['orange', 'crimson'])\n",
    "plt.title('Weekend vs Revenue', fontsize = 30)\n",
    "plt.show()"
   ]
  },
  {
   "cell_type": "code",
   "execution_count": null,
   "metadata": {
    "_kg_hide-input": true,
    "id": "-zuAEvmM8CGr",
    "outputId": "f6ef65ae-77e2-44f7-f21e-271e19ee0e48"
   },
   "outputs": [],
   "source": [
    "# bar plot between traffic type vs Revenue\n",
    "\n",
    "##start code\n",
    "\n",
    "\n",
    "\n",
    "\n",
    "##end code"
   ]
  },
  {
   "cell_type": "code",
   "execution_count": null,
   "metadata": {
    "_kg_hide-input": true,
    "id": "gbmLR_2C7w4d",
    "outputId": "bf1dea27-6c2f-44b3-ec6c-44f31e1b2f61"
   },
   "outputs": [],
   "source": [
    "# bar plot between vistor type vs Revenue\n",
    "\n",
    "##start code\n",
    "\n",
    "\n",
    "\n",
    "\n",
    "##end code\n"
   ]
  },
  {
   "cell_type": "code",
   "execution_count": null,
   "metadata": {
    "_kg_hide-input": true,
    "id": "DWugeOtp6-vu",
    "outputId": "bcbbda1a-4cec-42d6-95c3-a87c202f5692"
   },
   "outputs": [],
   "source": [
    "# bar plot between vistor type vs Revenue\n",
    "\n",
    "##start code\n",
    "\n",
    "\n",
    "\n",
    "\n",
    "##end code\n"
   ]
  },
  {
   "cell_type": "markdown",
   "metadata": {},
   "source": [
    "**Seaborn LM Plot**\n",
    "* Its basic use is to plot data and regression model fits across a FacetGrid.\n",
    "\n",
    "* The function \"sns.Implot()\" combines regplot() and FacetGrid. It is intended as a convenient interface to fit regression models across conditional subsets of a dataset.\n",
    "\n",
    "* When thinking about how to assign variables to different facets, a general rule is that it makes sense to use hue for the most important comparison, followed by col and row. However, always think about your particular dataset and the goals of the visualization you are creating.\n",
    "\n",
    "* There are a number of mutually exclusive options for estimating the regression model.\n",
    "\n",
    "* For sns.lmplot(), we have three mandatory parameters and the rest are optional that we may use as per our requirements. These 3 parameters are values for X-axis, values for Y-axis and reference to dataset. \n",
    "\n",
    "In the next section you need to make a LM Plot between Administrative and Informational to get a idea of linear relation among tem,\n",
    "You can also make LM Plots for other variables too for better understanding."
   ]
  },
  {
   "cell_type": "code",
   "execution_count": null,
   "metadata": {
    "_kg_hide-input": true,
    "id": "KNgni8ynWOo8",
    "outputId": "5c12d5ed-cc1f-45f4-e8bc-a64985d4f7a6"
   },
   "outputs": [],
   "source": [
    "# lm plot \n",
    "\n",
    "##start code\n",
    "\n",
    "\n",
    "\n",
    "\n",
    "##end code\n",
    "\n"
   ]
  },
  {
   "cell_type": "markdown",
   "metadata": {
    "id": "DQQLhXdtBhBb"
   },
   "source": [
    "## Multi-Variate Analysis\n",
    "\n",
    "* Multivariate analysis (MVA) is based on the principles of multivariate statistics, which involves observation and analysis of more than one statistical outcome variable at a time. Typically, MVA is used to address the situations where multiple measurements are made on each experimental unit and the relations among these measurements and their structures are important.\n",
    "* Essentially, multivariate analysis is a tool to find patterns and relationships between several variables simultaneously. It lets us predict the effect a change in one variable will have on other variables. ... This gives multivariate analysis a decisive advantage over other forms of analysis."
   ]
  },
  {
   "attachments": {},
   "cell_type": "markdown",
   "metadata": {},
   "source": [
    "Lets analyze some closely corelating features of this dataset by making a heatmap using seaborn library.\n",
    "\n",
    "**What is a heatmap??**\n",
    "* A heatmap is a two-dimensional graphical representation of data where the individual values that are contained in a matrix are represented as colors. The seaborn python package allows the creation of annotated heatmaps which can be tweaked using Matplotlib tools as per the creator's requirement.\n",
    "* Image below is an of a heatmap.\n",
    "\n",
    "<img src=\"https://d1rwhvwstyk9gu.cloudfront.net/2017/07/seaburn-2.png\"\n",
    "     width=\"800px\">"
   ]
  },
  {
   "cell_type": "code",
   "execution_count": null,
   "metadata": {},
   "outputs": [],
   "source": [
    "# make a seaborn heatmap\n",
    "\n",
    "##start code\n",
    "\n",
    "\n",
    "\n",
    "##end code"
   ]
  },
  {
   "cell_type": "markdown",
   "metadata": {},
   "source": [
    "Now lets analyze some more features with respect to revenue using Box Plots.\n",
    "\n",
    "**What are Box Plots??**\n",
    "\n",
    "* Seaborn boxplot is a very basic plot Boxplots are used to visualize distributions. Thats very useful when you want to compare data between two groups. Sometimes a boxplot is named a box-and-whisker plot. Any box shows the quartiles of the dataset while the whiskers extend to show the rest of the distribution.\n",
    "\n",
    "Out of 4 boxplots one is implemented for you and you need to implement the rest. You can make more boxplots to visualize data better we leave that to you.\n"
   ]
  },
  {
   "cell_type": "code",
   "execution_count": null,
   "metadata": {
    "_kg_hide-input": true,
    "id": "Jf0vKu5C2FjP",
    "outputId": "d8f755a6-1d66-4060-ed7b-b520a851b1a4"
   },
   "outputs": [],
   "source": [
    "# boxplot between month vs pagevalues wrt revenue\n",
    "\n",
    "plt.rcParams['figure.figsize'] = (18, 15)\n",
    "plt.subplot(2, 2, 1)\n",
    "sns.boxplot(x = data['Month'], y = data['PageValues'], hue = data['Revenue'], palette = 'inferno')\n",
    "plt.title('Mon. vs PageValues w.r.t. Rev.', fontsize = 30)\n",
    "\n",
    "# boxplot between month vs exitrates wrt revenue\n",
    "##start code\n",
    "\n",
    "\n",
    "\n",
    "\n",
    "##end code\n",
    "\n",
    "\n",
    "# boxplot between month vs bouncerates wrt revenue\n",
    "##start code\n",
    "\n",
    "\n",
    "\n",
    "\n",
    "##end code\n",
    "\n",
    "\n",
    "# boxplot between visitor type vs exit rates w.r.t revenue\n",
    "##start code\n",
    "\n",
    "\n",
    "\n",
    "\n",
    "##end code\n",
    "\n",
    "plt.show()"
   ]
  },
  {
   "cell_type": "markdown",
   "metadata": {},
   "source": [
    "Now lets analyze some more features with respect to revenue using Violin Plots.\n",
    "\n",
    "**What are Violin Plots??**\n",
    "* Violin Plot is a method to visualize the distribution of numerical data of different variables. It is similar to Box Plot but with a rotated plot on each side, giving more information about the density estimate on the y-axis.\n",
    "* The density is mirrored and flipped over and the resulting shape is filled in, creating an image resembling a violin. The advantage of a violin plot is that it can show nuances in the distribution that aren’t perceptible in a boxplot. On the other hand, the boxplot more clearly shows the outliers in the data.\n",
    "* Violin Plots hold more information than the box plots, they are less popular. Because of their unpopularity, their meaning can be harder to grasp for many readers not familiar with the violin plot representation.\n",
    "\n",
    "Out of 4 violin plots one is implemented for you and you need to do the rest. You can make more boxplots to visualize data better we leave that to you."
   ]
  },
  {
   "cell_type": "code",
   "execution_count": null,
   "metadata": {
    "_kg_hide-input": true,
    "id": "QC003RFCEjUf",
    "outputId": "e2016d17-bb4c-4a10-9068-e279a1c2bb14"
   },
   "outputs": [],
   "source": [
    "# visitor type vs exit rates w.r.t revenue\n",
    "\n",
    "plt.rcParams['figure.figsize'] = (18, 15)\n",
    "plt.subplot(2, 2, 1)\n",
    "sns.violinplot(x = data['VisitorType'], y = data['ExitRates'], hue = data['Revenue'], palette = 'rainbow')\n",
    "plt.title('Visitors vs ExitRates wrt Rev.', fontsize = 30)\n",
    "\n",
    "# visitor type vs exit rates w.r.t revenue\n",
    "plt.subplot(2, 2, 2)\n",
    "sns.violinplot(x = data['VisitorType'], y = data['PageValues'], hue = data['Revenue'], palette = 'gnuplot')\n",
    "plt.title('Visitors vs PageValues wrt Rev.', fontsize = 30)\n",
    "\n",
    "# region vs pagevalues w.r.t. revenue\n",
    "plt.subplot(2, 2, 3)\n",
    "sns.violinplot(x = data['Region'], y = data['PageValues'], hue = data['Revenue'], palette = 'Greens')\n",
    "plt.title('Region vs PageValues wrt Rev.', fontsize = 30)\n",
    "\n",
    "#region vs exit rates w.r.t. revenue\n",
    "plt.subplot(2, 2, 4)\n",
    "sns.violinplot(x = data['Region'], y = data['ExitRates'], hue = data['Revenue'], palette = 'spring')\n",
    "plt.title('Region vs Exit Rates w.r.t. Revenue', fontsize = 30)\n",
    "\n",
    "plt.show()"
   ]
  },
  {
   "cell_type": "markdown",
   "metadata": {},
   "source": [
    "\n",
    "## Data Pre-Processing\n",
    " * Data Pre-processing is a vital part in model building. \"Garbage In Garbage Out\", we all have heard this statement. But what does it mean. It means if we feed in garbage in our data like missing values, and different features which doesn't have any predictive power and provides the same information in our model. Our model will be just making a random guess and it won't be efficient enough for us to use it for any predictions.\n",
    " \n",
    " **Step 1- You will impute those missing values in our data.**"
   ]
  },
  {
   "cell_type": "code",
   "execution_count": null,
   "metadata": {},
   "outputs": [],
   "source": [
    "# Inputing Missing Values with 0\n",
    "## start code\n",
    "\n",
    "\n",
    "## end code\n",
    "\n",
    "\n",
    "# checking the no. of null values in data after imputing the missing values\n",
    "## start code\n",
    "\n",
    "\n",
    "## end code"
   ]
  },
  {
   "cell_type": "markdown",
   "metadata": {},
   "source": [
    "## Clustering Analysis"
   ]
  },
  {
   "cell_type": "markdown",
   "metadata": {},
   "source": [
    "## Trying to learn the user characteristics of in terms of time spent on the Website\n"
   ]
  },
  {
   "cell_type": "markdown",
   "metadata": {},
   "source": [
    "**1. Administrative Duration vs Bounce Rate**"
   ]
  },
  {
   "cell_type": "markdown",
   "metadata": {},
   "source": [
    "**The Elbow Method to Find out the Maximum no. of Optimal Clusters**"
   ]
  },
  {
   "cell_type": "markdown",
   "metadata": {},
   "source": [
    "> Compute clustering algorithm (e.g., k-means clustering) for different values of k. For instance, by varying k from   1 to 10 clusters.\n",
    "\n",
    "> For each k, calculate the total within-cluster sum of square (wss).\n",
    "\n",
    "> Plot the curve of wss according to the number of clusters k.\n",
    "\n",
    "> The location of a bend (knee) in the plot is generally considered as an indicator of the appropriate number of       clusters."
   ]
  },
  {
   "cell_type": "code",
   "execution_count": null,
   "metadata": {
    "_kg_hide-input": true
   },
   "outputs": [],
   "source": [
    "# Q1: Time Spent by The Users on Website vs Bounce Rates\n",
    "\n",
    "'''\n",
    "Bounce Rate :The percentage of visitors to a particular website who navigate away from the site after \n",
    "viewing only one page.\n",
    "'''\n",
    "# let's cluster Administrative duration and Bounce Ratw to different types of clusters in the dataset.\n",
    "# preparing the dataset\n",
    "x = data.iloc[:, [1, 6]].values\n",
    "\n",
    "# checking the shape of the dataset\n",
    "x.shape\n",
    "\n",
    "\n",
    "from sklearn.cluster import KMeans\n",
    "\n",
    "wcss = []\n",
    "for i in range(1, 11):\n",
    "    km = KMeans(n_clusters = i,\n",
    "              init = 'k-means++',\n",
    "              max_iter = 300,\n",
    "              n_init = 10,\n",
    "              random_state = 0,\n",
    "              algorithm = 'elkan',\n",
    "              tol = 0.001)\n",
    "    km.fit(x)\n",
    "    labels = km.labels_\n",
    "    wcss.append(km.inertia_)\n",
    "    \n",
    "plt.rcParams['figure.figsize'] = (15, 7)\n",
    "plt.plot(range(1, 11), wcss)\n",
    "plt.grid()\n",
    "plt.tight_layout()\n",
    "plt.title('The Elbow Method', fontsize = 20)\n",
    "plt.xlabel('No. of Clusters')\n",
    "plt.ylabel('wcss')\n",
    "plt.show()"
   ]
  },
  {
   "cell_type": "markdown",
   "metadata": {},
   "source": [
    "**According to this plot, the maximum bend is at third index, that is the number of Optimal no. of Clusters for Adminstrative Duration and Revenue is Three.\n",
    "Let's go to the next step, i.e., Plotting the Clusters.**"
   ]
  },
  {
   "cell_type": "markdown",
   "metadata": {},
   "source": [
    "**Visualizing the Cluster using Scatter Plot.**"
   ]
  },
  {
   "cell_type": "code",
   "execution_count": null,
   "metadata": {
    "_kg_hide-input": true
   },
   "outputs": [],
   "source": [
    "km = KMeans(n_clusters = 3, init = 'k-means++', max_iter = 300, n_init = 10, random_state = 0)\n",
    "y_means = km.fit_predict(x)\n",
    "\n",
    "plt.scatter(x[y_means == 0, 0], x[y_means == 0, 1], s = 100, c = 'pink', label = 'Un-interested Customers')\n",
    "plt.scatter(x[y_means == 1, 0], x[y_means == 1, 1], s = 100, c = 'yellow', label = 'General Customers')\n",
    "plt.scatter(x[y_means == 2, 0], x[y_means == 2, 1], s = 100, c = 'cyan', label = 'Target Customers')\n",
    "plt.scatter(km.cluster_centers_[:,0], km.cluster_centers_[:, 1], s = 50, c = 'blue' , label = 'centeroid')\n",
    "\n",
    "plt.title('Administrative Duration vs Duration', fontsize = 20)\n",
    "plt.grid()\n",
    "plt.xlabel('Administrative Duration')\n",
    "plt.ylabel('Bounce Rates')\n",
    "plt.legend()\n",
    "plt.show()"
   ]
  },
  {
   "cell_type": "markdown",
   "metadata": {},
   "source": [
    "**By,  Looking at this Clustering plot, you will notice that the customers who spent a longer administrative duration in a website are very less likely to bounce from the website that is navigating away from the website just after navigating one page of that website.**\n",
    "\n",
    "**There are Three Groups, The Pink Group is a group of customers who stay for shortest adminstrative duration and have highest chance for Navigating away from the website.**"
   ]
  },
  {
   "cell_type": "markdown",
   "metadata": {},
   "source": [
    "### 2. Informative Duration vs Bounce Rates\n",
    "Like you did clustering analysis for Administrative Duration vs Bounce Rates in the previous section, you need to do the same for Informative Duration vs Bounce Rates.\n",
    "\n",
    "Below is space provided for you to write your code."
   ]
  },
  {
   "cell_type": "code",
   "execution_count": null,
   "metadata": {
    "_kg_hide-input": true
   },
   "outputs": [],
   "source": [
    "# informational duration vs Bounce Rates\n",
    "\n",
    "## start code\n",
    "\n",
    "\n",
    "\n",
    "\n",
    "\n",
    "\n",
    "\n",
    "\n",
    "\n",
    "\n",
    "\n",
    "\n",
    "\n",
    "\n",
    "\n",
    "## end code"
   ]
  },
  {
   "cell_type": "markdown",
   "metadata": {},
   "source": [
    "**According to this plot, you will come to know that the maximum bend is at second index, that is the number of Optimal no. of Clusters for Adminstrative Duration and Revenue is Two.\n",
    "Let's go to the next step, i.e., Plotting the Clusters.**"
   ]
  },
  {
   "cell_type": "markdown",
   "metadata": {},
   "source": [
    "**Visualizing the Cluster using Scatter Plot.**\n",
    "Below is space provided for you to write your code."
   ]
  },
  {
   "cell_type": "code",
   "execution_count": null,
   "metadata": {
    "_kg_hide-input": true
   },
   "outputs": [],
   "source": [
    "# make scatter plot for optimal no. cluster for Informational Duration Vs Bounce Rates\n",
    "\n",
    "## start Code\n",
    "\n",
    "\n",
    "\n",
    "\n",
    "\n",
    "\n",
    "\n",
    "\n",
    "\n",
    "\n",
    "## end code"
   ]
  },
  {
   "cell_type": "markdown",
   "metadata": {},
   "source": [
    "**3.Administrative Duration vs Exit Rates**\n",
    "Like you did clustering analysis for Administrative Duration vs Bounce Rates in the previous section, you need to do the same for Informative Duration vs Bounce Rates.\n",
    "\n",
    "Below is space provided for you to write your code."
   ]
  },
  {
   "cell_type": "code",
   "execution_count": null,
   "metadata": {
    "_kg_hide-input": true
   },
   "outputs": [],
   "source": [
    "# administrative duration vs exit Rates\n",
    "\n",
    "## start code\n",
    "\n",
    "\n",
    "\n",
    "\n",
    "\n",
    "\n",
    "\n",
    "\n",
    "\n",
    "\n",
    "\n",
    "\n",
    "\n",
    "\n",
    "\n",
    "## end code"
   ]
  },
  {
   "cell_type": "code",
   "execution_count": null,
   "metadata": {
    "_kg_hide-input": true
   },
   "outputs": [],
   "source": [
    "# make scatter plot\n",
    "\n",
    "## start code \n",
    "\n",
    "\n",
    "\n",
    "\n",
    "\n",
    "\n",
    "\n",
    "\n",
    "\n",
    "## end code"
   ]
  },
  {
   "cell_type": "markdown",
   "metadata": {},
   "source": [
    "## Where from the Users of the Website come?\n",
    "Lets answer this question by doing clustering analysis for region vs traffic type and administrative duration vs region.\n",
    "\n",
    "Below is space provided for you to write your code and figure it out yourself."
   ]
  },
  {
   "cell_type": "markdown",
   "metadata": {},
   "source": [
    "### 1. Region vs Traffic Type"
   ]
  },
  {
   "cell_type": "code",
   "execution_count": null,
   "metadata": {
    "_kg_hide-input": true
   },
   "outputs": [],
   "source": [
    "# Region vs Traffic Type\n",
    "\n",
    "## start code\n",
    "\n",
    "\n",
    "\n",
    "\n",
    "\n",
    "\n",
    "\n",
    "\n",
    "\n",
    "\n",
    "\n",
    "\n",
    "\n",
    "\n",
    "\n",
    "\n",
    "\n",
    "## end code"
   ]
  },
  {
   "cell_type": "code",
   "execution_count": null,
   "metadata": {
    "_kg_hide-input": true
   },
   "outputs": [],
   "source": [
    "# make a scatter plot to analyse the clusters in Region vs Traffic type\n",
    "\n",
    "## start code\n",
    "\n",
    "\n",
    "\n",
    "\n",
    "\n",
    "\n",
    "\n",
    "\n",
    "\n",
    "\n",
    "\n",
    "\n",
    "## end code"
   ]
  },
  {
   "cell_type": "markdown",
   "metadata": {},
   "source": [
    "### 2. Adminstrative Duration vs Region"
   ]
  },
  {
   "cell_type": "code",
   "execution_count": null,
   "metadata": {
    "_kg_hide-input": true
   },
   "outputs": [],
   "source": [
    "# Administrative Duration vs Region\n",
    "\n",
    "## start code\n",
    "\n",
    "\n",
    "\n",
    "\n",
    "\n",
    "\n",
    "\n",
    "\n",
    "\n",
    "\n",
    "\n",
    "\n",
    "\n",
    "\n",
    "\n",
    "\n",
    "\n",
    "## end code"
   ]
  },
  {
   "cell_type": "code",
   "execution_count": null,
   "metadata": {
    "_kg_hide-input": true
   },
   "outputs": [],
   "source": [
    "# make a scatter plot to analyse the clusters in Administrative Duration vs Region\n",
    "\n",
    "## start code\n",
    "\n",
    "\n",
    "\n",
    "\n",
    "\n",
    "\n",
    "\n",
    "\n",
    "\n",
    "\n",
    "\n",
    "\n",
    "## end code"
   ]
  },
  {
   "cell_type": "markdown",
   "metadata": {},
   "source": [
    "## Data Preprocessing"
   ]
  },
  {
   "cell_type": "markdown",
   "metadata": {},
   "source": [
    "**Step 2 - One Hot and Label Encoding**"
   ]
  },
  {
   "cell_type": "code",
   "execution_count": null,
   "metadata": {
    "id": "_UIkGtvAZJcJ",
    "outputId": "b74449a0-abec-4668-e5a7-853042d32aa3"
   },
   "outputs": [],
   "source": [
    "# one hot encoding \n",
    "\n",
    "## start code\n",
    "\n",
    "\n",
    "## end code"
   ]
  },
  {
   "cell_type": "code",
   "execution_count": null,
   "metadata": {
    "id": "AxuVrgU-aL3Y",
    "outputId": "b95c6179-c843-4081-f4f3-25d45e1071cb"
   },
   "outputs": [],
   "source": [
    "# label encoding of revenue as 0's and 1's\n",
    "\n",
    "from sklearn.preprocessing import LabelEncoder\n",
    "\n",
    "## start code\n",
    "\n",
    "\n",
    "\n",
    "## end code"
   ]
  },
  {
   "cell_type": "code",
   "execution_count": null,
   "metadata": {
    "id": "MbUoAu-5dR9B",
    "outputId": "dff8b0fa-7c89-4186-e053-791512c954a5"
   },
   "outputs": [],
   "source": [
    "# getting dependent and independent variables\n",
    "\n",
    "x = data1\n",
    "# removing the target column revenue from x\n",
    "x = x.drop(['Revenue'], axis = 1)\n",
    "\n",
    "y = data['Revenue']\n",
    "\n",
    "# checking the shapes\n",
    "print(\"Shape of x:\", x.shape)\n",
    "print(\"Shape of y:\", y.shape)\n"
   ]
  },
  {
   "cell_type": "markdown",
   "metadata": {},
   "source": [
    "**Splitting of the Data**\n",
    "* Split the dependent and independent variables among Training and Test Data\n",
    "* For now you will split the data with a test size of 0.3, later on you can change it accordingly to get better results."
   ]
  },
  {
   "cell_type": "code",
   "execution_count": null,
   "metadata": {
    "id": "NzwrknQyeNEU",
    "outputId": "ce230463-b2d8-4f9c-8e45-d1583ac71d4c"
   },
   "outputs": [],
   "source": [
    "# splitting the data\n",
    "\n",
    "from sklearn.model_selection import train_test_split\n",
    "\n",
    "x_train, x_test, y_train, y_test = # write code for splitting the data\n",
    "\n",
    "# checking the shapes\n",
    "\n",
    "print(\"Shape of x_train :\", x_train.shape)\n",
    "print(\"Shape of y_train :\", y_train.shape)\n",
    "print(\"Shape of x_test :\", x_test.shape)\n",
    "print(\"Shape of y_test :\", y_test.shape)"
   ]
  },
  {
   "cell_type": "markdown",
   "metadata": {},
   "source": [
    "## Model Implementation using Random Forrest Classifier"
   ]
  },
  {
   "cell_type": "markdown",
   "metadata": {},
   "source": [
    "**Random Forest Classifier**\n",
    "* Random forests are bagged decision tree models that split on a subset of features on each split. This is a huge mouthful.\n",
    "* Whether you have a regression or classification task, random forest is an applicable model for your needs. It can handle binary features, categorical features, and numerical features. There is very little pre-processing that needs to be done. The data does not need to be rescaled or transformed.\n",
    "* For now you going to build your model using Random forest Classifier later on you can try other classification algorithms also.\n",
    "\n",
    "<img src=\"data:image/png;base64,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\" width=\"600px\">"
   ]
  },
  {
   "cell_type": "code",
   "execution_count": null,
   "metadata": {
    "id": "ByuRfogogrr5",
    "outputId": "0b49d7fe-76e4-42c3-95d1-2a7c1c3c6b31"
   },
   "outputs": [],
   "source": [
    "# MODELLING\n",
    "\n",
    "from sklearn.ensemble import RandomForestClassifier\n",
    "from sklearn.metrics import confusion_matrix\n",
    "from sklearn.metrics import classification_report\n",
    "\n",
    "model = RandomForestClassifier()\n",
    "model.fit(x_train, y_train)\n",
    "\n",
    "y_pred = model.predict(x_test)\n",
    "\n",
    "# evaluating the model\n",
    "print(\"Training Accuracy :\", model.score(x_train, y_train))\n",
    "print(\"Testing Accuracy :\", model.score(x_test, y_test))\n",
    "\n",
    "# write code to print confusion matrix\n",
    "## start code \n",
    "\n",
    "\n",
    "##end Code\n",
    "\n",
    "\n",
    "# write code to print classification report\n",
    "## start code\n",
    "\n",
    "\n",
    "\n",
    "## end code"
   ]
  },
  {
   "cell_type": "markdown",
   "metadata": {},
   "source": [
    "**Evaluating Model**\n",
    "\n",
    "You can evaluate your model using eli5 library and can see the weights or contribution of different features in your model.\n",
    "Below is provided its implementation."
   ]
  },
  {
   "cell_type": "code",
   "execution_count": null,
   "metadata": {
    "_kg_hide-input": true
   },
   "outputs": [],
   "source": [
    "# finding the Permutation importance\n",
    "\n",
    "import eli5\n",
    "from eli5.sklearn import PermutationImportance\n",
    "\n",
    "perm = PermutationImportance(model, random_state = 0).fit(x_test, y_test)\n",
    "eli5.show_weights(perm, feature_names = x_test.columns.tolist())"
   ]
  },
  {
   "cell_type": "markdown",
   "metadata": {},
   "source": [
    "**Partial Dependency Plots**\n",
    "\n",
    "You can also plot some partial dependency plots for some fetures to understand your model better.(its optional)"
   ]
  },
  {
   "cell_type": "code",
   "execution_count": null,
   "metadata": {
    "_kg_hide-input": true
   },
   "outputs": [],
   "source": [
    "# plotting the partial dependence plot for adminisrative duration\n",
    "\n",
    "# importing pdp\n",
    "from pdpbox import pdp, info_plots\n",
    "\n",
    "## start code\n",
    "\n",
    "\n",
    "\n",
    "\n",
    "## end code"
   ]
  },
  {
   "cell_type": "code",
   "execution_count": null,
   "metadata": {
    "_kg_hide-input": true
   },
   "outputs": [],
   "source": [
    "# plotting partial dependency plot for Informational Duration\n",
    "## start code\n",
    "\n",
    "\n",
    "\n",
    "\n",
    "## end code"
   ]
  },
  {
   "cell_type": "markdown",
   "metadata": {},
   "source": [
    "**Shap Values**"
   ]
  },
  {
   "cell_type": "code",
   "execution_count": null,
   "metadata": {
    "_kg_hide-input": true
   },
   "outputs": [],
   "source": [
    "# let's take a look at the shap values\n",
    "\n",
    "# importing shap\n",
    "\n",
    "\n",
    "explainer = shap.TreeExplainer(model)\n",
    "shap_values = explainer.shap_values(x_test)\n",
    "\n",
    "shap.summary_plot(shap_values[1], x_test, plot_type = 'bar')"
   ]
  },
  {
   "cell_type": "code",
   "execution_count": null,
   "metadata": {},
   "outputs": [],
   "source": [
    "shap.summary_plot(shap_values[1], x_test)"
   ]
  },
  {
   "cell_type": "markdown",
   "metadata": {},
   "source": [
    "**Hyperparameter Tuning**\n",
    "\n",
    "You may use Random Search for this and try different sets of parameters like n_estimators , max_depth, min_samples_leaf etc and choose the best set of parameters."
   ]
  },
  {
   "cell_type": "code",
   "execution_count": null,
   "metadata": {},
   "outputs": [],
   "source": [
    "#write your code here\n"
   ]
  },
  {
   "cell_type": "markdown",
   "metadata": {},
   "source": [
    "## Conclusion"
   ]
  },
  {
   "cell_type": "code",
   "execution_count": null,
   "metadata": {},
   "outputs": [],
   "source": [
    "# Write down your interpretations about your model and insights here."
   ]
  }
 ],
 "metadata": {
  "colab": {
   "collapsed_sections": [],
   "name": "Online Shoppers Purchasing Intention.ipynb",
   "provenance": [],
   "version": "0.3.2"
  },
  "kernelspec": {
   "display_name": "Python 3",
   "language": "python",
   "name": "python3"
  },
  "language_info": {
   "codemirror_mode": {
    "name": "ipython",
    "version": 3
   },
   "file_extension": ".py",
   "mimetype": "text/x-python",
   "name": "python",
   "nbconvert_exporter": "python",
   "pygments_lexer": "ipython3",
   "version": "3.7.6"
  }
 },
 "nbformat": 4,
 "nbformat_minor": 4
}
